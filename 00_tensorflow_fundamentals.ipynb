{
  "nbformat": 4,
  "nbformat_minor": 0,
  "metadata": {
    "colab": {
      "name": "00_tensorflow_fundamentals.ipynb",
      "provenance": [],
      "collapsed_sections": [],
      "authorship_tag": "ABX9TyMo755IMEHsIfl4oVXYuUhb",
      "include_colab_link": true
    },
    "kernelspec": {
      "name": "python3",
      "display_name": "Python 3"
    },
    "language_info": {
      "name": "python"
    },
    "accelerator": "GPU"
  },
  "cells": [
    {
      "cell_type": "markdown",
      "metadata": {
        "id": "view-in-github",
        "colab_type": "text"
      },
      "source": [
        "<a href=\"https://colab.research.google.com/github/ecemozturkk/TensorFlow-Colab-Notes/blob/main/00_tensorflow_fundamentals.ipynb\" target=\"_parent\"><img src=\"https://colab.research.google.com/assets/colab-badge.svg\" alt=\"Open In Colab\"/></a>"
      ]
    },
    {
      "cell_type": "markdown",
      "metadata": {
        "id": "UeLbAzPbG1tW"
      },
      "source": [
        "# **14 - Creating your first tensors with TensorFlow and `tf.constant()`**"
      ]
    },
    {
      "cell_type": "markdown",
      "metadata": {
        "id": "CaX3HIhJnLmq"
      },
      "source": [
        "# Introduction to Tensors\n"
      ]
    },
    {
      "cell_type": "code",
      "metadata": {
        "colab": {
          "base_uri": "https://localhost:8080/"
        },
        "id": "iGQakP-Zl8yf",
        "outputId": "b8b78678-48d1-4937-8f11-6f2c40210be3"
      },
      "source": [
        "# Import TensorFlow\n",
        "import tensorflow as tf\n",
        "print(tf.__version__)\n"
      ],
      "execution_count": null,
      "outputs": [
        {
          "output_type": "stream",
          "text": [
            "2.4.1\n"
          ],
          "name": "stdout"
        }
      ]
    },
    {
      "cell_type": "code",
      "metadata": {
        "colab": {
          "base_uri": "https://localhost:8080/"
        },
        "id": "cXbrrl0-m5dA",
        "outputId": "5ec2fbf2-b79f-4221-d322-b4e9cf9ce49c"
      },
      "source": [
        "# Create tensors with tf.constant()\n",
        "scalar = tf.constant(7)\n",
        "scalar\n"
      ],
      "execution_count": null,
      "outputs": [
        {
          "output_type": "execute_result",
          "data": {
            "text/plain": [
              "<tf.Tensor: shape=(), dtype=int32, numpy=7>"
            ]
          },
          "metadata": {
            "tags": []
          },
          "execution_count": 2
        }
      ]
    },
    {
      "cell_type": "code",
      "metadata": {
        "colab": {
          "base_uri": "https://localhost:8080/"
        },
        "id": "QHLyxbhDoidH",
        "outputId": "92c6bc3a-e0e7-486a-fe5f-3b4d225bc1ef"
      },
      "source": [
        "# Check the number of dimensions of a tensor (ndim stands for -number of dimensions-)\n",
        "scalar.ndim"
      ],
      "execution_count": null,
      "outputs": [
        {
          "output_type": "execute_result",
          "data": {
            "text/plain": [
              "0"
            ]
          },
          "metadata": {
            "tags": []
          },
          "execution_count": 3
        }
      ]
    },
    {
      "cell_type": "code",
      "metadata": {
        "colab": {
          "base_uri": "https://localhost:8080/"
        },
        "id": "G0Xd1ADJpq7p",
        "outputId": "a196bbc3-8526-45c4-fc1e-9cb3c9763f94"
      },
      "source": [
        "# Create a vector\n",
        "vector = tf.constant([10,10])\n",
        "vector"
      ],
      "execution_count": null,
      "outputs": [
        {
          "output_type": "execute_result",
          "data": {
            "text/plain": [
              "<tf.Tensor: shape=(2,), dtype=int32, numpy=array([10, 10], dtype=int32)>"
            ]
          },
          "metadata": {
            "tags": []
          },
          "execution_count": 4
        }
      ]
    },
    {
      "cell_type": "code",
      "metadata": {
        "colab": {
          "base_uri": "https://localhost:8080/"
        },
        "id": "ytgpYskwp-Oc",
        "outputId": "db92b84f-cb4e-4f57-8aaa-570d1a8ed12e"
      },
      "source": [
        "# Check the dimension of our vector\n",
        "vector.ndim"
      ],
      "execution_count": null,
      "outputs": [
        {
          "output_type": "execute_result",
          "data": {
            "text/plain": [
              "1"
            ]
          },
          "metadata": {
            "tags": []
          },
          "execution_count": 5
        }
      ]
    },
    {
      "cell_type": "code",
      "metadata": {
        "colab": {
          "base_uri": "https://localhost:8080/"
        },
        "id": "r2a2vVIfqTR1",
        "outputId": "b17952dd-8d49-447b-88c5-030b6cdd3c01"
      },
      "source": [
        "# Create a matrix (has more than 1 dimension)\n",
        "matrix = tf.constant([[10,7],\n",
        "                      [7,10]])\n",
        "matrix"
      ],
      "execution_count": null,
      "outputs": [
        {
          "output_type": "execute_result",
          "data": {
            "text/plain": [
              "<tf.Tensor: shape=(2, 2), dtype=int32, numpy=\n",
              "array([[10,  7],\n",
              "       [ 7, 10]], dtype=int32)>"
            ]
          },
          "metadata": {
            "tags": []
          },
          "execution_count": 6
        }
      ]
    },
    {
      "cell_type": "code",
      "metadata": {
        "colab": {
          "base_uri": "https://localhost:8080/"
        },
        "id": "2twJ9cJiqxTx",
        "outputId": "7c773c2d-2be4-49ab-a751-fc17f9fb149b"
      },
      "source": [
        "matrix.ndim"
      ],
      "execution_count": null,
      "outputs": [
        {
          "output_type": "execute_result",
          "data": {
            "text/plain": [
              "2"
            ]
          },
          "metadata": {
            "tags": []
          },
          "execution_count": 7
        }
      ]
    },
    {
      "cell_type": "code",
      "metadata": {
        "colab": {
          "base_uri": "https://localhost:8080/"
        },
        "id": "K_O4s0zhrhxE",
        "outputId": "7d3b189f-09c3-4505-e8cd-8b174ebaca68"
      },
      "source": [
        "# Create another matrix\n",
        "another_matrix = tf.constant([[10. , 7.],\n",
        "                              [3. , 2.],\n",
        "                              [8. , 9.]], dtype=tf.float16) #specify the data type with dtype parameter\n",
        "another_matrix"
      ],
      "execution_count": null,
      "outputs": [
        {
          "output_type": "execute_result",
          "data": {
            "text/plain": [
              "<tf.Tensor: shape=(3, 2), dtype=float16, numpy=\n",
              "array([[10.,  7.],\n",
              "       [ 3.,  2.],\n",
              "       [ 8.,  9.]], dtype=float16)>"
            ]
          },
          "metadata": {
            "tags": []
          },
          "execution_count": 8
        }
      ]
    },
    {
      "cell_type": "code",
      "metadata": {
        "colab": {
          "base_uri": "https://localhost:8080/"
        },
        "id": "S2o8-TW9twth",
        "outputId": "c20a1c70-d8f1-464c-bd7b-6f894af6d799"
      },
      "source": [
        "# What's the number dimensions of another_matrix?\n",
        "another_matrix.ndim\n",
        "# bi ustteki kodda shape=(3,2) nin icinde iki tane deger oldugu icin bu kodda 2 sayisini elde ettik"
      ],
      "execution_count": null,
      "outputs": [
        {
          "output_type": "execute_result",
          "data": {
            "text/plain": [
              "2"
            ]
          },
          "metadata": {
            "tags": []
          },
          "execution_count": 9
        }
      ]
    },
    {
      "cell_type": "code",
      "metadata": {
        "colab": {
          "base_uri": "https://localhost:8080/"
        },
        "id": "cQ03IH7rumRM",
        "outputId": "33f42ace-4a2b-4db6-a7d4-bea55b9124f0"
      },
      "source": [
        "# Let's create a tensor\n",
        "tensor = tf.constant([[[1, 2, 3],[4, 5, 6]],\n",
        "                      [[7, 8, 9],[10, 11, 12]],\n",
        "                      [[13, 14, 15],[16, 17, 18]]])\n",
        "tensor\n",
        "# shape(3, 2, 3) --> 3 icin 1-6,7-12,13-18 // 2 icin 1-3&1-6, 7-9&10-12, 13-15&16-18 // 3 icin her en icteki parantezin icinde 3 deger var or:1,2,3 ya da 7,8,9"
      ],
      "execution_count": null,
      "outputs": [
        {
          "output_type": "execute_result",
          "data": {
            "text/plain": [
              "<tf.Tensor: shape=(3, 2, 3), dtype=int32, numpy=\n",
              "array([[[ 1,  2,  3],\n",
              "        [ 4,  5,  6]],\n",
              "\n",
              "       [[ 7,  8,  9],\n",
              "        [10, 11, 12]],\n",
              "\n",
              "       [[13, 14, 15],\n",
              "        [16, 17, 18]]], dtype=int32)>"
            ]
          },
          "metadata": {
            "tags": []
          },
          "execution_count": 10
        }
      ]
    },
    {
      "cell_type": "code",
      "metadata": {
        "colab": {
          "base_uri": "https://localhost:8080/"
        },
        "id": "-_Uv8M18v5h8",
        "outputId": "8b323633-b86f-4894-bc72-903d3ce4a768"
      },
      "source": [
        "# What's the number of dimension of tensor?\n",
        "tensor.ndim"
      ],
      "execution_count": null,
      "outputs": [
        {
          "output_type": "execute_result",
          "data": {
            "text/plain": [
              "3"
            ]
          },
          "metadata": {
            "tags": []
          },
          "execution_count": 11
        }
      ]
    },
    {
      "cell_type": "markdown",
      "metadata": {
        "id": "p_UfEpGUxoGh"
      },
      "source": [
        "# What we've created so far:\n",
        "* Scalar : a single number\n",
        "* Vector : a number with direction (e.g. wind speed and direction)\n",
        "* Matrix : a 2-dimensional array of numbers\n",
        "* Tensor : an n-dimensional array of numbers (when n can be any number, a 0-dimensional tensor is a scalar, a 1-dimensional tensor is a vector)"
      ]
    },
    {
      "cell_type": "markdown",
      "metadata": {
        "id": "BLQklGKXHZJ2"
      },
      "source": [
        "# **15 - Creating tensors with TensorFlow and `tf.Variable()`**"
      ]
    },
    {
      "cell_type": "code",
      "metadata": {
        "id": "BIAL48MtHsLO"
      },
      "source": [
        "import tensorflow as tf"
      ],
      "execution_count": null,
      "outputs": []
    },
    {
      "cell_type": "code",
      "metadata": {
        "colab": {
          "base_uri": "https://localhost:8080/"
        },
        "id": "YZaMwCvxIEXc",
        "outputId": "3433369b-79b9-4c27-d400-fe83e0c1acdc"
      },
      "source": [
        "tf.Variable"
      ],
      "execution_count": null,
      "outputs": [
        {
          "output_type": "execute_result",
          "data": {
            "text/plain": [
              "tensorflow.python.ops.variables.Variable"
            ]
          },
          "metadata": {
            "tags": []
          },
          "execution_count": 13
        }
      ]
    },
    {
      "cell_type": "code",
      "metadata": {
        "colab": {
          "base_uri": "https://localhost:8080/"
        },
        "id": "NolNdxO6ITp3",
        "outputId": "85dae9fb-065d-45f8-9e1c-939558a430ab"
      },
      "source": [
        "# Create the same tensor with tf.Variable() as above\n",
        "changeable_tensor = tf.Variable([10,7])\n",
        "unchangeable_tensor = tf.constant([10,7])\n",
        "changeable_tensor, unchangeable_tensor"
      ],
      "execution_count": null,
      "outputs": [
        {
          "output_type": "execute_result",
          "data": {
            "text/plain": [
              "(<tf.Variable 'Variable:0' shape=(2,) dtype=int32, numpy=array([10,  7], dtype=int32)>,\n",
              " <tf.Tensor: shape=(2,), dtype=int32, numpy=array([10,  7], dtype=int32)>)"
            ]
          },
          "metadata": {
            "tags": []
          },
          "execution_count": 14
        }
      ]
    },
    {
      "cell_type": "code",
      "metadata": {
        "colab": {
          "base_uri": "https://localhost:8080/",
          "height": 178
        },
        "id": "LXz7XgTcJf1c",
        "outputId": "125afcbb-17ae-4aae-99eb-49f59b84fddc"
      },
      "source": [
        "# Let's try change one of the elements in our changeable tensor\n",
        "changeable_tensor[0] = 7"
      ],
      "execution_count": null,
      "outputs": [
        {
          "output_type": "error",
          "ename": "TypeError",
          "evalue": "ignored",
          "traceback": [
            "\u001b[0;31m---------------------------------------------------------------------------\u001b[0m",
            "\u001b[0;31mTypeError\u001b[0m                                 Traceback (most recent call last)",
            "\u001b[0;32m<ipython-input-16-db4717b6d1ef>\u001b[0m in \u001b[0;36m<module>\u001b[0;34m()\u001b[0m\n\u001b[1;32m      1\u001b[0m \u001b[0;31m# Let's try change one of the elements in our changeable tensor\u001b[0m\u001b[0;34m\u001b[0m\u001b[0;34m\u001b[0m\u001b[0;34m\u001b[0m\u001b[0m\n\u001b[0;32m----> 2\u001b[0;31m \u001b[0mchangeable_tensor\u001b[0m\u001b[0;34m[\u001b[0m\u001b[0;36m0\u001b[0m\u001b[0;34m]\u001b[0m \u001b[0;34m=\u001b[0m \u001b[0;36m7\u001b[0m\u001b[0;34m\u001b[0m\u001b[0;34m\u001b[0m\u001b[0m\n\u001b[0m",
            "\u001b[0;31mTypeError\u001b[0m: 'ResourceVariable' object does not support item assignment"
          ]
        }
      ]
    },
    {
      "cell_type": "code",
      "metadata": {
        "id": "9ylec75jJ-cE",
        "colab": {
          "base_uri": "https://localhost:8080/"
        },
        "outputId": "1323fdea-30b2-4fbf-e1df-eec0a0b1a57f"
      },
      "source": [
        "# How about we try `.assign()`\n",
        "changeable_tensor[0].assign(7)\n",
        "changeable_tensor\n"
      ],
      "execution_count": null,
      "outputs": [
        {
          "output_type": "execute_result",
          "data": {
            "text/plain": [
              "<tf.Variable 'Variable:0' shape=(2,) dtype=int32, numpy=array([7, 7], dtype=int32)>"
            ]
          },
          "metadata": {
            "tags": []
          },
          "execution_count": 17
        }
      ]
    },
    {
      "cell_type": "code",
      "metadata": {
        "id": "yURylhr8Kmi7",
        "colab": {
          "base_uri": "https://localhost:8080/",
          "height": 195
        },
        "outputId": "859ac98d-69a2-40bd-8ca8-058747cc7ec0"
      },
      "source": [
        "# Let's try change our unchangeable tensor\n",
        "unchangeable_tensor[0].assign(7)\n",
        "unchangeable_tensor\n"
      ],
      "execution_count": null,
      "outputs": [
        {
          "output_type": "error",
          "ename": "AttributeError",
          "evalue": "ignored",
          "traceback": [
            "\u001b[0;31m---------------------------------------------------------------------------\u001b[0m",
            "\u001b[0;31mAttributeError\u001b[0m                            Traceback (most recent call last)",
            "\u001b[0;32m<ipython-input-19-e5c33979885b>\u001b[0m in \u001b[0;36m<module>\u001b[0;34m()\u001b[0m\n\u001b[1;32m      1\u001b[0m \u001b[0;31m# Let's try change our unchangeable tensor\u001b[0m\u001b[0;34m\u001b[0m\u001b[0;34m\u001b[0m\u001b[0;34m\u001b[0m\u001b[0m\n\u001b[0;32m----> 2\u001b[0;31m \u001b[0munchangeable_tensor\u001b[0m\u001b[0;34m[\u001b[0m\u001b[0;36m0\u001b[0m\u001b[0;34m]\u001b[0m\u001b[0;34m.\u001b[0m\u001b[0massign\u001b[0m\u001b[0;34m(\u001b[0m\u001b[0;36m7\u001b[0m\u001b[0;34m)\u001b[0m\u001b[0;34m\u001b[0m\u001b[0;34m\u001b[0m\u001b[0m\n\u001b[0m\u001b[1;32m      3\u001b[0m \u001b[0munchangeable_tensor\u001b[0m\u001b[0;34m\u001b[0m\u001b[0;34m\u001b[0m\u001b[0m\n",
            "\u001b[0;31mAttributeError\u001b[0m: 'tensorflow.python.framework.ops.EagerTensor' object has no attribute 'assign'"
          ]
        }
      ]
    },
    {
      "cell_type": "markdown",
      "metadata": {
        "id": "qVrdS_jyLeZ7"
      },
      "source": [
        "# **16 - Creating random tensors with TensorFlow**\n",
        "### Random tensors are tensors of some arbitrary size which contain random numbers"
      ]
    },
    {
      "cell_type": "code",
      "metadata": {
        "id": "4LMqskrx6p2e"
      },
      "source": [
        "import tensorflow as tf\n"
      ],
      "execution_count": null,
      "outputs": []
    },
    {
      "cell_type": "code",
      "metadata": {
        "id": "CdiJw6O8K6Cc",
        "colab": {
          "base_uri": "https://localhost:8080/"
        },
        "outputId": "d18ee4f5-4a69-49fe-ce49-473738600e58"
      },
      "source": [
        "# Let's create two random (but the same) tensors \n",
        "random_1 = tf.random.Generator.from_seed(42) # set seed for reproducibility\n",
        "random_1 = random_1.normal(shape=(3,2))\n",
        "random_2 = tf.random.Generator.from_seed(42)\n",
        "random_2 = random_2.normal(shape=(3,2))\n",
        "\n",
        "# Are they equal?\n",
        "random_1 , random_2 , random_1 == random_2\n"
      ],
      "execution_count": null,
      "outputs": [
        {
          "output_type": "execute_result",
          "data": {
            "text/plain": [
              "(<tf.Tensor: shape=(3, 2), dtype=float32, numpy=\n",
              " array([[-0.7565803 , -0.06854702],\n",
              "        [ 0.07595026, -1.2573844 ],\n",
              "        [-0.23193763, -1.8107855 ]], dtype=float32)>,\n",
              " <tf.Tensor: shape=(3, 2), dtype=float32, numpy=\n",
              " array([[-0.7565803 , -0.06854702],\n",
              "        [ 0.07595026, -1.2573844 ],\n",
              "        [-0.23193763, -1.8107855 ]], dtype=float32)>,\n",
              " <tf.Tensor: shape=(3, 2), dtype=bool, numpy=\n",
              " array([[ True,  True],\n",
              "        [ True,  True],\n",
              "        [ True,  True]])>)"
            ]
          },
          "metadata": {
            "tags": []
          },
          "execution_count": 21
        }
      ]
    },
    {
      "cell_type": "markdown",
      "metadata": {
        "id": "WOoavh0E7NNE"
      },
      "source": [
        "# **17 - Shuffling the order of tensors**"
      ]
    },
    {
      "cell_type": "code",
      "metadata": {
        "id": "wQpPDloROvyx"
      },
      "source": [
        "import tensorflow as tf\n"
      ],
      "execution_count": null,
      "outputs": []
    },
    {
      "cell_type": "code",
      "metadata": {
        "id": "nxpIUkHl7Z3o",
        "colab": {
          "base_uri": "https://localhost:8080/"
        },
        "outputId": "a71ffad6-0548-4857-b3eb-2fbd03b9a6ac"
      },
      "source": [
        "# Shuffle a tensor (valuable for when you want to shuffle your data so the inherent order doesn't effect learning)\n",
        "not_shuffled = tf.constant([[10,7],\n",
        "                           [3,4],\n",
        "                           [2,5]])\n",
        "not_shuffled.ndim"
      ],
      "execution_count": null,
      "outputs": [
        {
          "output_type": "execute_result",
          "data": {
            "text/plain": [
              "2"
            ]
          },
          "metadata": {
            "tags": []
          },
          "execution_count": 23
        }
      ]
    },
    {
      "cell_type": "code",
      "metadata": {
        "id": "4SofWdhF8or1",
        "colab": {
          "base_uri": "https://localhost:8080/"
        },
        "outputId": "ed359cee-4c5e-453a-880e-272c2886c05e"
      },
      "source": [
        "not_shuffled  #shape=(3,2) oldugu icin bir ustteki dimensional sayisi 2 cikti."
      ],
      "execution_count": null,
      "outputs": [
        {
          "output_type": "execute_result",
          "data": {
            "text/plain": [
              "<tf.Tensor: shape=(3, 2), dtype=int32, numpy=\n",
              "array([[10,  7],\n",
              "       [ 3,  4],\n",
              "       [ 2,  5]], dtype=int32)>"
            ]
          },
          "metadata": {
            "tags": []
          },
          "execution_count": 24
        }
      ]
    },
    {
      "cell_type": "code",
      "metadata": {
        "id": "2UJbkuCg8vgD",
        "colab": {
          "base_uri": "https://localhost:8080/"
        },
        "outputId": "04389e7a-77d4-4fcc-a177-63cb101a87ad"
      },
      "source": [
        "# Shuffle our non-shuffled tensor\n",
        "tf.random.shuffle(not_shuffled)  #every time you run it,it's a different order"
      ],
      "execution_count": null,
      "outputs": [
        {
          "output_type": "execute_result",
          "data": {
            "text/plain": [
              "<tf.Tensor: shape=(3, 2), dtype=int32, numpy=\n",
              "array([[ 2,  5],\n",
              "       [ 3,  4],\n",
              "       [10,  7]], dtype=int32)>"
            ]
          },
          "metadata": {
            "tags": []
          },
          "execution_count": 25
        }
      ]
    },
    {
      "cell_type": "markdown",
      "metadata": {
        "id": "qZ45Uis0Ashs"
      },
      "source": [
        "*Burada hoca global seed ve operation seed ile alakali deneme odevi verdi.\n",
        "Linkteki (https://www.tensorflow.org/api_docs/python/tf/random/set_seed)ornekleri yaptigim ayri bir not defteri (global seed vs operation seed) olusturdum*"
      ]
    },
    {
      "cell_type": "markdown",
      "metadata": {
        "id": "atGupNfyGPMc"
      },
      "source": [
        "# **18 - Creating tensors from NumPy arrays**"
      ]
    },
    {
      "cell_type": "code",
      "metadata": {
        "id": "6SSMD4u_-AxN"
      },
      "source": [
        "import tensorflow as tf"
      ],
      "execution_count": null,
      "outputs": []
    },
    {
      "cell_type": "code",
      "metadata": {
        "id": "D19l9JZRs6Qt"
      },
      "source": [
        "# 17'de tanimladigimizi tekrar tanimliyoruz\n",
        "not_shuffled = tf.constant([[10,7],\n",
        "                           [3,4],\n",
        "                           [2,5]])"
      ],
      "execution_count": null,
      "outputs": []
    },
    {
      "cell_type": "code",
      "metadata": {
        "id": "mmuV-50HtX6v",
        "colab": {
          "base_uri": "https://localhost:8080/"
        },
        "outputId": "055d8fc5-f1ab-4329-c1a9-d8aeb7f97a74"
      },
      "source": [
        "tf.random.shuffle(not_shuffled, seed=42) #operation random seed /// her yeniledigimizde sirasi farkli sonuc veriyor"
      ],
      "execution_count": null,
      "outputs": [
        {
          "output_type": "execute_result",
          "data": {
            "text/plain": [
              "<tf.Tensor: shape=(3, 2), dtype=int32, numpy=\n",
              "array([[ 2,  5],\n",
              "       [ 3,  4],\n",
              "       [10,  7]], dtype=int32)>"
            ]
          },
          "metadata": {
            "tags": []
          },
          "execution_count": 28
        }
      ]
    },
    {
      "cell_type": "code",
      "metadata": {
        "id": "yksyL1Kdtj3p",
        "colab": {
          "base_uri": "https://localhost:8080/"
        },
        "outputId": "34b65f97-ec21-4df5-faef-7be7cbd36b66"
      },
      "source": [
        "# ustune global leveli eklersek sadece ilk tanimladigimizdaki sirayi verir:\n",
        "tf.random.set_seed(42) # global level random seed\n",
        "tf.random.shuffle(not_shuffled, seed=42) # operation levek random seed"
      ],
      "execution_count": null,
      "outputs": [
        {
          "output_type": "execute_result",
          "data": {
            "text/plain": [
              "<tf.Tensor: shape=(3, 2), dtype=int32, numpy=\n",
              "array([[10,  7],\n",
              "       [ 3,  4],\n",
              "       [ 2,  5]], dtype=int32)>"
            ]
          },
          "metadata": {
            "tags": []
          },
          "execution_count": 29
        }
      ]
    },
    {
      "cell_type": "markdown",
      "metadata": {
        "id": "7io1J-HRvDZC"
      },
      "source": [
        "### Other ways to make sensors"
      ]
    },
    {
      "cell_type": "code",
      "metadata": {
        "id": "WWQzpxZQt9KB",
        "colab": {
          "base_uri": "https://localhost:8080/"
        },
        "outputId": "19838b56-eb2f-469d-9e2d-a56f6f7ff2ed"
      },
      "source": [
        "# Create a tensor of all ones\n",
        "tf.ones([10, 7])\n"
      ],
      "execution_count": null,
      "outputs": [
        {
          "output_type": "execute_result",
          "data": {
            "text/plain": [
              "<tf.Tensor: shape=(10, 7), dtype=float32, numpy=\n",
              "array([[1., 1., 1., 1., 1., 1., 1.],\n",
              "       [1., 1., 1., 1., 1., 1., 1.],\n",
              "       [1., 1., 1., 1., 1., 1., 1.],\n",
              "       [1., 1., 1., 1., 1., 1., 1.],\n",
              "       [1., 1., 1., 1., 1., 1., 1.],\n",
              "       [1., 1., 1., 1., 1., 1., 1.],\n",
              "       [1., 1., 1., 1., 1., 1., 1.],\n",
              "       [1., 1., 1., 1., 1., 1., 1.],\n",
              "       [1., 1., 1., 1., 1., 1., 1.],\n",
              "       [1., 1., 1., 1., 1., 1., 1.]], dtype=float32)>"
            ]
          },
          "metadata": {
            "tags": []
          },
          "execution_count": 30
        }
      ]
    },
    {
      "cell_type": "code",
      "metadata": {
        "id": "ACpPcY-BvhbB",
        "colab": {
          "base_uri": "https://localhost:8080/"
        },
        "outputId": "1e3078b7-e109-471e-9585-705ff094a68e"
      },
      "source": [
        "# Create a tensor of all zeroes\n",
        "tf.zeros(shape=(3,4))\n"
      ],
      "execution_count": null,
      "outputs": [
        {
          "output_type": "execute_result",
          "data": {
            "text/plain": [
              "<tf.Tensor: shape=(3, 4), dtype=float32, numpy=\n",
              "array([[0., 0., 0., 0.],\n",
              "       [0., 0., 0., 0.],\n",
              "       [0., 0., 0., 0.]], dtype=float32)>"
            ]
          },
          "metadata": {
            "tags": []
          },
          "execution_count": 31
        }
      ]
    },
    {
      "cell_type": "markdown",
      "metadata": {
        "id": "3mlmnR5DwZY1"
      },
      "source": [
        "### Turn NumPy arrays into tensors\n",
        "\n",
        "The main difference between NumPy and TensorFlow is that tensors can be run on a GPU (much faster for numerical computing)"
      ]
    },
    {
      "cell_type": "code",
      "metadata": {
        "id": "ML0hF3J6wJpR",
        "colab": {
          "base_uri": "https://localhost:8080/"
        },
        "outputId": "9f0ff95a-80b4-4c1d-ccd9-b2eba348db35"
      },
      "source": [
        "# You can also turn NumPy arrays into tensors\n",
        "import numpy as np\n",
        "numpy_A = np.arange(1, 25, dtype=np.int32) # create a NumPy array between 1-25\n",
        "numpy_A\n",
        "\n"
      ],
      "execution_count": null,
      "outputs": [
        {
          "output_type": "execute_result",
          "data": {
            "text/plain": [
              "array([ 1,  2,  3,  4,  5,  6,  7,  8,  9, 10, 11, 12, 13, 14, 15, 16, 17,\n",
              "       18, 19, 20, 21, 22, 23, 24], dtype=int32)"
            ]
          },
          "metadata": {
            "tags": []
          },
          "execution_count": 32
        }
      ]
    },
    {
      "cell_type": "code",
      "metadata": {
        "id": "pwzPGrTxyi5R",
        "colab": {
          "base_uri": "https://localhost:8080/"
        },
        "outputId": "63b20a7f-2c00-4a02-eb36-8253095bc8b2"
      },
      "source": [
        "A = tf.constant(numpy_A)\n",
        "A"
      ],
      "execution_count": null,
      "outputs": [
        {
          "output_type": "execute_result",
          "data": {
            "text/plain": [
              "<tf.Tensor: shape=(24,), dtype=int32, numpy=\n",
              "array([ 1,  2,  3,  4,  5,  6,  7,  8,  9, 10, 11, 12, 13, 14, 15, 16, 17,\n",
              "       18, 19, 20, 21, 22, 23, 24], dtype=int32)>"
            ]
          },
          "metadata": {
            "tags": []
          },
          "execution_count": 33
        }
      ]
    },
    {
      "cell_type": "code",
      "metadata": {
        "id": "UsSaL8xwy6tw",
        "colab": {
          "base_uri": "https://localhost:8080/"
        },
        "outputId": "35dc611a-b098-4da5-96cc-93ff7b51fbae"
      },
      "source": [
        "# Let's change the shape of A (the old shape is 24, as you see up there)\n",
        "A = tf.constant(numpy_A , shape=(2,3,4))\n",
        "A"
      ],
      "execution_count": null,
      "outputs": [
        {
          "output_type": "execute_result",
          "data": {
            "text/plain": [
              "<tf.Tensor: shape=(2, 3, 4), dtype=int32, numpy=\n",
              "array([[[ 1,  2,  3,  4],\n",
              "        [ 5,  6,  7,  8],\n",
              "        [ 9, 10, 11, 12]],\n",
              "\n",
              "       [[13, 14, 15, 16],\n",
              "        [17, 18, 19, 20],\n",
              "        [21, 22, 23, 24]]], dtype=int32)>"
            ]
          },
          "metadata": {
            "tags": []
          },
          "execution_count": 34
        }
      ]
    },
    {
      "cell_type": "code",
      "metadata": {
        "id": "r66S6nHxzoQZ",
        "colab": {
          "base_uri": "https://localhost:8080/"
        },
        "outputId": "8f06035e-65ca-425b-8de1-afccd104e33c"
      },
      "source": [
        "A = tf.constant(numpy_A , shape=(2,3,4))\n",
        "B = tf.constant(numpy_A)\n",
        "A, B"
      ],
      "execution_count": null,
      "outputs": [
        {
          "output_type": "execute_result",
          "data": {
            "text/plain": [
              "(<tf.Tensor: shape=(2, 3, 4), dtype=int32, numpy=\n",
              " array([[[ 1,  2,  3,  4],\n",
              "         [ 5,  6,  7,  8],\n",
              "         [ 9, 10, 11, 12]],\n",
              " \n",
              "        [[13, 14, 15, 16],\n",
              "         [17, 18, 19, 20],\n",
              "         [21, 22, 23, 24]]], dtype=int32)>,\n",
              " <tf.Tensor: shape=(24,), dtype=int32, numpy=\n",
              " array([ 1,  2,  3,  4,  5,  6,  7,  8,  9, 10, 11, 12, 13, 14, 15, 16, 17,\n",
              "        18, 19, 20, 21, 22, 23, 24], dtype=int32)>)"
            ]
          },
          "metadata": {
            "tags": []
          },
          "execution_count": 35
        }
      ]
    },
    {
      "cell_type": "markdown",
      "metadata": {
        "id": "65SbTQJG09No"
      },
      "source": [
        "# **19 - Getting information from your tensors (tensor attributes)**\n",
        "* Shape\n",
        "* Rank\n",
        "* axis or dimension\n",
        "* Size\n",
        "![Ekran Görüntüsü (166).png](data:image/png;base64,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)"
      ]
    },
    {
      "cell_type": "code",
      "metadata": {
        "id": "9p29VbA80C0h",
        "colab": {
          "base_uri": "https://localhost:8080/"
        },
        "outputId": "958ecd24-4b06-486a-a349-0ca8b8fc71a5"
      },
      "source": [
        "# Create a rank 4 tensor (4 dimensions)\n",
        "rank_4_tensor = tf.zeros(shape=[2,3,4,5])\n",
        "rank_4_tensor"
      ],
      "execution_count": null,
      "outputs": [
        {
          "output_type": "execute_result",
          "data": {
            "text/plain": [
              "<tf.Tensor: shape=(2, 3, 4, 5), dtype=float32, numpy=\n",
              "array([[[[0., 0., 0., 0., 0.],\n",
              "         [0., 0., 0., 0., 0.],\n",
              "         [0., 0., 0., 0., 0.],\n",
              "         [0., 0., 0., 0., 0.]],\n",
              "\n",
              "        [[0., 0., 0., 0., 0.],\n",
              "         [0., 0., 0., 0., 0.],\n",
              "         [0., 0., 0., 0., 0.],\n",
              "         [0., 0., 0., 0., 0.]],\n",
              "\n",
              "        [[0., 0., 0., 0., 0.],\n",
              "         [0., 0., 0., 0., 0.],\n",
              "         [0., 0., 0., 0., 0.],\n",
              "         [0., 0., 0., 0., 0.]]],\n",
              "\n",
              "\n",
              "       [[[0., 0., 0., 0., 0.],\n",
              "         [0., 0., 0., 0., 0.],\n",
              "         [0., 0., 0., 0., 0.],\n",
              "         [0., 0., 0., 0., 0.]],\n",
              "\n",
              "        [[0., 0., 0., 0., 0.],\n",
              "         [0., 0., 0., 0., 0.],\n",
              "         [0., 0., 0., 0., 0.],\n",
              "         [0., 0., 0., 0., 0.]],\n",
              "\n",
              "        [[0., 0., 0., 0., 0.],\n",
              "         [0., 0., 0., 0., 0.],\n",
              "         [0., 0., 0., 0., 0.],\n",
              "         [0., 0., 0., 0., 0.]]]], dtype=float32)>"
            ]
          },
          "metadata": {
            "tags": []
          },
          "execution_count": 36
        }
      ]
    },
    {
      "cell_type": "code",
      "metadata": {
        "id": "3K68ftiV4qIq",
        "colab": {
          "base_uri": "https://localhost:8080/"
        },
        "outputId": "41271470-ec2a-45b4-a68e-88b490400d3f"
      },
      "source": [
        "rank_4_tensor[0]"
      ],
      "execution_count": null,
      "outputs": [
        {
          "output_type": "execute_result",
          "data": {
            "text/plain": [
              "<tf.Tensor: shape=(3, 4, 5), dtype=float32, numpy=\n",
              "array([[[0., 0., 0., 0., 0.],\n",
              "        [0., 0., 0., 0., 0.],\n",
              "        [0., 0., 0., 0., 0.],\n",
              "        [0., 0., 0., 0., 0.]],\n",
              "\n",
              "       [[0., 0., 0., 0., 0.],\n",
              "        [0., 0., 0., 0., 0.],\n",
              "        [0., 0., 0., 0., 0.],\n",
              "        [0., 0., 0., 0., 0.]],\n",
              "\n",
              "       [[0., 0., 0., 0., 0.],\n",
              "        [0., 0., 0., 0., 0.],\n",
              "        [0., 0., 0., 0., 0.],\n",
              "        [0., 0., 0., 0., 0.]]], dtype=float32)>"
            ]
          },
          "metadata": {
            "tags": []
          },
          "execution_count": 37
        }
      ]
    },
    {
      "cell_type": "code",
      "metadata": {
        "id": "RhCf-i8hTPTL",
        "colab": {
          "base_uri": "https://localhost:8080/"
        },
        "outputId": "32312344-71a0-4c96-f09a-4907ef2ce465"
      },
      "source": [
        "rank_4_tensor.shape, rank_4_tensor.ndim, tf.size(rank_4_tensor)"
      ],
      "execution_count": null,
      "outputs": [
        {
          "output_type": "execute_result",
          "data": {
            "text/plain": [
              "(TensorShape([2, 3, 4, 5]), 4, <tf.Tensor: shape=(), dtype=int32, numpy=120>)"
            ]
          },
          "metadata": {
            "tags": []
          },
          "execution_count": 38
        }
      ]
    },
    {
      "cell_type": "code",
      "metadata": {
        "id": "yowhwgxUUTte",
        "colab": {
          "base_uri": "https://localhost:8080/"
        },
        "outputId": "1c6b3dd6-9cfa-4afd-a6ee-928245d0ac7e"
      },
      "source": [
        "2*3*4*5"
      ],
      "execution_count": null,
      "outputs": [
        {
          "output_type": "execute_result",
          "data": {
            "text/plain": [
              "120"
            ]
          },
          "metadata": {
            "tags": []
          },
          "execution_count": 39
        }
      ]
    },
    {
      "cell_type": "code",
      "metadata": {
        "id": "vT7cl36ZUenn",
        "colab": {
          "base_uri": "https://localhost:8080/"
        },
        "outputId": "1a61c92c-9178-44f1-9e5a-9f9c3a6aea68"
      },
      "source": [
        "# Get varaious attributes of our tensor\n",
        "print(\"Datatype of every element:\",rank_4_tensor.dtype)\n",
        "print(\"Number of dimensions (rank)\", rank_4_tensor.ndim)\n",
        "print(\"Shape of tensor:\",rank_4_tensor.shape)\n",
        "print(\"Elements along the 0 axis:\", rank_4_tensor.shape[0])\n",
        "print(\"Elements along the last axis:\", rank_4_tensor.shape[-1])  #//yana not aldim\n",
        "print(\"Total number of elements in our tensor:\", tf.size(rank_4_tensor))\n",
        "print(\"Total number of elements in our tensor:\", tf.size(rank_4_tensor).numpy())\n"
      ],
      "execution_count": null,
      "outputs": [
        {
          "output_type": "stream",
          "text": [
            "Datatype of every element: <dtype: 'float32'>\n",
            "Number of dimensions (rank) 4\n",
            "Shape of tensor: (2, 3, 4, 5)\n",
            "Elements along the 0 axis: 2\n",
            "Elements along the last axis: 5\n",
            "Total number of elements in our tensor: tf.Tensor(120, shape=(), dtype=int32)\n",
            "Total number of elements in our tensor: 120\n"
          ],
          "name": "stdout"
        }
      ]
    },
    {
      "cell_type": "markdown",
      "metadata": {
        "id": "HYn50_MyhBjo"
      },
      "source": [
        "# **20 - Indexing and expanding tensors**\n",
        "Tensors can be indexed just like Python lists"
      ]
    },
    {
      "cell_type": "code",
      "metadata": {
        "id": "xmcafYF4iQUn",
        "colab": {
          "base_uri": "https://localhost:8080/"
        },
        "outputId": "92c6e4de-28c2-4cc1-a4c5-686781edab7d"
      },
      "source": [
        "some_list = [1,2,3,4]\n",
        "some_list[:2]"
      ],
      "execution_count": null,
      "outputs": [
        {
          "output_type": "execute_result",
          "data": {
            "text/plain": [
              "[1, 2]"
            ]
          },
          "metadata": {
            "tags": []
          },
          "execution_count": 41
        }
      ]
    },
    {
      "cell_type": "code",
      "metadata": {
        "id": "XyMXurBbWRe4",
        "colab": {
          "base_uri": "https://localhost:8080/"
        },
        "outputId": "44c5731a-bbab-4eb2-be25-72796ddb9362"
      },
      "source": [
        "# Get the first 2 elements of each dimension\n",
        "rank_4_tensor[:2,:2,:2,:2]\n",
        "\n",
        "\n"
      ],
      "execution_count": null,
      "outputs": [
        {
          "output_type": "execute_result",
          "data": {
            "text/plain": [
              "<tf.Tensor: shape=(2, 2, 2, 2), dtype=float32, numpy=\n",
              "array([[[[0., 0.],\n",
              "         [0., 0.]],\n",
              "\n",
              "        [[0., 0.],\n",
              "         [0., 0.]]],\n",
              "\n",
              "\n",
              "       [[[0., 0.],\n",
              "         [0., 0.]],\n",
              "\n",
              "        [[0., 0.],\n",
              "         [0., 0.]]]], dtype=float32)>"
            ]
          },
          "metadata": {
            "tags": []
          },
          "execution_count": 42
        }
      ]
    },
    {
      "cell_type": "code",
      "metadata": {
        "id": "uXPjcxs_jqpv",
        "colab": {
          "base_uri": "https://localhost:8080/"
        },
        "outputId": "1837e8ed-6efc-4600-9afc-be1467ce9634"
      },
      "source": [
        "rank_4_tensor.shape"
      ],
      "execution_count": null,
      "outputs": [
        {
          "output_type": "execute_result",
          "data": {
            "text/plain": [
              "TensorShape([2, 3, 4, 5])"
            ]
          },
          "metadata": {
            "tags": []
          },
          "execution_count": 43
        }
      ]
    },
    {
      "cell_type": "code",
      "metadata": {
        "id": "3PHFHEgwinib",
        "colab": {
          "base_uri": "https://localhost:8080/"
        },
        "outputId": "80221be2-0c2c-4144-97c7-13d0d95e1b9f"
      },
      "source": [
        "# Get the first element from each dimension from each index except for thne final one\n",
        "rank_4_tensor[:1,:1,:1,:]"
      ],
      "execution_count": null,
      "outputs": [
        {
          "output_type": "execute_result",
          "data": {
            "text/plain": [
              "<tf.Tensor: shape=(1, 1, 1, 5), dtype=float32, numpy=array([[[[0., 0., 0., 0., 0.]]]], dtype=float32)>"
            ]
          },
          "metadata": {
            "tags": []
          },
          "execution_count": 44
        }
      ]
    },
    {
      "cell_type": "code",
      "metadata": {
        "id": "WoWFGo0yjjin",
        "colab": {
          "base_uri": "https://localhost:8080/"
        },
        "outputId": "41e0901a-a0b7-4d71-9f80-7359fee2cbba"
      },
      "source": [
        "# Create a rank 2 tensor (2 dimensions)\n",
        "rank_2_tensor = tf.constant([[10,7],\n",
        "                             [3,4]])\n",
        "rank_2_tensor.shape, rank_2_tensor.ndim"
      ],
      "execution_count": null,
      "outputs": [
        {
          "output_type": "execute_result",
          "data": {
            "text/plain": [
              "(TensorShape([2, 2]), 2)"
            ]
          },
          "metadata": {
            "tags": []
          },
          "execution_count": 45
        }
      ]
    },
    {
      "cell_type": "code",
      "metadata": {
        "id": "-zlWZQYWkb7G",
        "colab": {
          "base_uri": "https://localhost:8080/"
        },
        "outputId": "742c718d-df0a-47cb-bff2-a6e4e2951950"
      },
      "source": [
        "rank_2_tensor"
      ],
      "execution_count": null,
      "outputs": [
        {
          "output_type": "execute_result",
          "data": {
            "text/plain": [
              "<tf.Tensor: shape=(2, 2), dtype=int32, numpy=\n",
              "array([[10,  7],\n",
              "       [ 3,  4]], dtype=int32)>"
            ]
          },
          "metadata": {
            "tags": []
          },
          "execution_count": 46
        }
      ]
    },
    {
      "cell_type": "code",
      "metadata": {
        "id": "UrblGhNYkd6H",
        "colab": {
          "base_uri": "https://localhost:8080/"
        },
        "outputId": "d2e66075-1194-4718-80d8-821b090e5a96"
      },
      "source": [
        "some_list, some_list[-1]"
      ],
      "execution_count": null,
      "outputs": [
        {
          "output_type": "execute_result",
          "data": {
            "text/plain": [
              "([1, 2, 3, 4], 4)"
            ]
          },
          "metadata": {
            "tags": []
          },
          "execution_count": 47
        }
      ]
    },
    {
      "cell_type": "code",
      "metadata": {
        "id": "KovJEojxkD2j",
        "colab": {
          "base_uri": "https://localhost:8080/"
        },
        "outputId": "20d25c20-1652-4487-a198-a38f6ae119aa"
      },
      "source": [
        "# get the last item of each of row of our rank 2 tensor\n",
        "rank_2_tensor[:,-1]"
      ],
      "execution_count": null,
      "outputs": [
        {
          "output_type": "execute_result",
          "data": {
            "text/plain": [
              "<tf.Tensor: shape=(2,), dtype=int32, numpy=array([7, 4], dtype=int32)>"
            ]
          },
          "metadata": {
            "tags": []
          },
          "execution_count": 48
        }
      ]
    },
    {
      "cell_type": "code",
      "metadata": {
        "id": "Yt5yM_ZAk8_E",
        "colab": {
          "base_uri": "https://localhost:8080/"
        },
        "outputId": "8fd4ffe9-3c7e-40e0-fe32-86e472439a61"
      },
      "source": [
        "# Add in extra dimension to our rank 2 tensor\n",
        "\n",
        "rank_3_tensor = rank_2_tensor[..., tf.newaxis]   #yana not aldim\n",
        "rank_3_tensor, rank_2_tensor"
      ],
      "execution_count": null,
      "outputs": [
        {
          "output_type": "execute_result",
          "data": {
            "text/plain": [
              "(<tf.Tensor: shape=(2, 2, 1), dtype=int32, numpy=\n",
              " array([[[10],\n",
              "         [ 7]],\n",
              " \n",
              "        [[ 3],\n",
              "         [ 4]]], dtype=int32)>, <tf.Tensor: shape=(2, 2), dtype=int32, numpy=\n",
              " array([[10,  7],\n",
              "        [ 3,  4]], dtype=int32)>)"
            ]
          },
          "metadata": {
            "tags": []
          },
          "execution_count": 49
        }
      ]
    },
    {
      "cell_type": "code",
      "metadata": {
        "id": "g7kZcctilp2L",
        "colab": {
          "base_uri": "https://localhost:8080/"
        },
        "outputId": "1d4ca175-dd7a-4890-c588-5b885c8f6a6a"
      },
      "source": [
        "# Alternative to tf.newaxis\n",
        "tf.expand_dims(rank_2_tensor, axis=-1) # \"-1\" means expand the final axis\n"
      ],
      "execution_count": null,
      "outputs": [
        {
          "output_type": "execute_result",
          "data": {
            "text/plain": [
              "<tf.Tensor: shape=(2, 2, 1), dtype=int32, numpy=\n",
              "array([[[10],\n",
              "        [ 7]],\n",
              "\n",
              "       [[ 3],\n",
              "        [ 4]]], dtype=int32)>"
            ]
          },
          "metadata": {
            "tags": []
          },
          "execution_count": 50
        }
      ]
    },
    {
      "cell_type": "code",
      "metadata": {
        "id": "nAYVdXs-nGAB",
        "colab": {
          "base_uri": "https://localhost:8080/"
        },
        "outputId": "dcf1abae-9ce7-4c06-edef-3f7ddfbb7909"
      },
      "source": [
        "# Expand the 0-axis\n",
        "tf.expand_dims(rank_2_tensor, axis=0)"
      ],
      "execution_count": null,
      "outputs": [
        {
          "output_type": "execute_result",
          "data": {
            "text/plain": [
              "<tf.Tensor: shape=(1, 2, 2), dtype=int32, numpy=\n",
              "array([[[10,  7],\n",
              "        [ 3,  4]]], dtype=int32)>"
            ]
          },
          "metadata": {
            "tags": []
          },
          "execution_count": 51
        }
      ]
    },
    {
      "cell_type": "code",
      "metadata": {
        "id": "reD_KvzOhkzN"
      },
      "source": [
        ""
      ],
      "execution_count": null,
      "outputs": []
    },
    {
      "cell_type": "code",
      "metadata": {
        "id": "KhWlOmUVnrYv",
        "colab": {
          "base_uri": "https://localhost:8080/"
        },
        "outputId": "c199004e-8a70-40af-a29d-64a84e8c4d5a"
      },
      "source": [
        "rank_2_tensor"
      ],
      "execution_count": null,
      "outputs": [
        {
          "output_type": "execute_result",
          "data": {
            "text/plain": [
              "<tf.Tensor: shape=(2, 2), dtype=int32, numpy=\n",
              "array([[10,  7],\n",
              "       [ 3,  4]], dtype=int32)>"
            ]
          },
          "metadata": {
            "tags": []
          },
          "execution_count": 52
        }
      ]
    },
    {
      "cell_type": "markdown",
      "metadata": {
        "id": "-kpOStbEkhpG"
      },
      "source": [
        "# **21 - Manipulating tensors with basic operations**"
      ]
    },
    {
      "cell_type": "markdown",
      "metadata": {
        "id": "j0sVxe1_k8Qu"
      },
      "source": [
        "### *Basic Operations (`+` , `-`, *, `/` )*\n",
        "\n",
        "\n",
        "\n"
      ]
    },
    {
      "cell_type": "code",
      "metadata": {
        "colab": {
          "base_uri": "https://localhost:8080/"
        },
        "id": "ZwSf0jkynxjr",
        "outputId": "3538803e-d3f9-4aa0-9b49-c4aea8eb07bb"
      },
      "source": [
        "# You can add values to a tensor using the addition operator\n",
        "tensor = tf.constant([[10, 7], [3, 4]])\n",
        "tensor + 10"
      ],
      "execution_count": null,
      "outputs": [
        {
          "output_type": "execute_result",
          "data": {
            "text/plain": [
              "<tf.Tensor: shape=(2, 2), dtype=int32, numpy=\n",
              "array([[20, 17],\n",
              "       [13, 14]], dtype=int32)>"
            ]
          },
          "metadata": {
            "tags": []
          },
          "execution_count": 53
        }
      ]
    },
    {
      "cell_type": "code",
      "metadata": {
        "colab": {
          "base_uri": "https://localhost:8080/"
        },
        "id": "gWSksqr3mUEi",
        "outputId": "89aaf706-0510-481a-a2ae-f1bb8aba6b2b"
      },
      "source": [
        "# Original tensor is unchanged\n",
        "tensor"
      ],
      "execution_count": null,
      "outputs": [
        {
          "output_type": "execute_result",
          "data": {
            "text/plain": [
              "<tf.Tensor: shape=(2, 2), dtype=int32, numpy=\n",
              "array([[10,  7],\n",
              "       [ 3,  4]], dtype=int32)>"
            ]
          },
          "metadata": {
            "tags": []
          },
          "execution_count": 54
        }
      ]
    },
    {
      "cell_type": "code",
      "metadata": {
        "colab": {
          "base_uri": "https://localhost:8080/"
        },
        "id": "6W4yxJrrmgPJ",
        "outputId": "a7aaea41-2402-4da3-9e7a-88b319ad8b88"
      },
      "source": [
        "# Multiplication also works\n",
        "tensor * 10"
      ],
      "execution_count": null,
      "outputs": [
        {
          "output_type": "execute_result",
          "data": {
            "text/plain": [
              "<tf.Tensor: shape=(2, 2), dtype=int32, numpy=\n",
              "array([[100,  70],\n",
              "       [ 30,  40]], dtype=int32)>"
            ]
          },
          "metadata": {
            "tags": []
          },
          "execution_count": 55
        }
      ]
    },
    {
      "cell_type": "code",
      "metadata": {
        "colab": {
          "base_uri": "https://localhost:8080/"
        },
        "id": "HXou9eedmyGi",
        "outputId": "8c7cbf25-40ea-487a-cb43-4a1d28abe478"
      },
      "source": [
        "# Substraction if you want\n",
        "tensor - 10"
      ],
      "execution_count": null,
      "outputs": [
        {
          "output_type": "execute_result",
          "data": {
            "text/plain": [
              "<tf.Tensor: shape=(2, 2), dtype=int32, numpy=\n",
              "array([[ 0, -3],\n",
              "       [-7, -6]], dtype=int32)>"
            ]
          },
          "metadata": {
            "tags": []
          },
          "execution_count": 56
        }
      ]
    },
    {
      "cell_type": "code",
      "metadata": {
        "colab": {
          "base_uri": "https://localhost:8080/"
        },
        "id": "ByFlCD2jm54N",
        "outputId": "bd2634c1-cd1c-4185-c7cf-3e066e16c9db"
      },
      "source": [
        "# we can use tensorflow built-in function too\n",
        "tf.multiply(tensor , 10)"
      ],
      "execution_count": null,
      "outputs": [
        {
          "output_type": "execute_result",
          "data": {
            "text/plain": [
              "<tf.Tensor: shape=(2, 2), dtype=int32, numpy=\n",
              "array([[100,  70],\n",
              "       [ 30,  40]], dtype=int32)>"
            ]
          },
          "metadata": {
            "tags": []
          },
          "execution_count": 57
        }
      ]
    },
    {
      "cell_type": "markdown",
      "metadata": {
        "id": "0aHDr4c9rZl5"
      },
      "source": [
        "# **22 - Matrix multiplication with tensors PART I**\n",
        "### In machine learning, matrix  multiplication is one of the most common tensor operations.\n",
        "\n",
        "### There are two rules our tensors (or matrices) need to fulfill if we're going to matrix multiply them:\n",
        "\n",
        "### 1-The inner dimensions must match\n",
        "### 2-The resulting matrix has the shape of the outer dimensions"
      ]
    },
    {
      "cell_type": "code",
      "metadata": {
        "colab": {
          "base_uri": "https://localhost:8080/"
        },
        "id": "hfzgkCUXqZ9s",
        "outputId": "bc8eb409-85e9-4d89-ec3b-61a3c7f8c789"
      },
      "source": [
        "# Matrix multiplication in tensorflow\n",
        "print(tensor)\n",
        "tf.matmul(tensor,tensor)"
      ],
      "execution_count": null,
      "outputs": [
        {
          "output_type": "stream",
          "text": [
            "tf.Tensor(\n",
            "[[10  7]\n",
            " [ 3  4]], shape=(2, 2), dtype=int32)\n"
          ],
          "name": "stdout"
        },
        {
          "output_type": "execute_result",
          "data": {
            "text/plain": [
              "<tf.Tensor: shape=(2, 2), dtype=int32, numpy=\n",
              "array([[121,  98],\n",
              "       [ 42,  37]], dtype=int32)>"
            ]
          },
          "metadata": {
            "tags": []
          },
          "execution_count": 58
        }
      ]
    },
    {
      "cell_type": "code",
      "metadata": {
        "colab": {
          "base_uri": "https://localhost:8080/"
        },
        "id": "9B7FHYNnHRjs",
        "outputId": "04c8fcda-d388-449c-ebd8-15bb561deb13"
      },
      "source": [
        "tensor, tensor"
      ],
      "execution_count": null,
      "outputs": [
        {
          "output_type": "execute_result",
          "data": {
            "text/plain": [
              "(<tf.Tensor: shape=(2, 2), dtype=int32, numpy=\n",
              " array([[10,  7],\n",
              "        [ 3,  4]], dtype=int32)>, <tf.Tensor: shape=(2, 2), dtype=int32, numpy=\n",
              " array([[10,  7],\n",
              "        [ 3,  4]], dtype=int32)>)"
            ]
          },
          "metadata": {
            "tags": []
          },
          "execution_count": 59
        }
      ]
    },
    {
      "cell_type": "code",
      "metadata": {
        "colab": {
          "base_uri": "https://localhost:8080/"
        },
        "id": "gCUNndi2HUp_",
        "outputId": "1db0ee86-386a-4bf1-eb5e-0a89abc1e6bf"
      },
      "source": [
        "tensor * tensor"
      ],
      "execution_count": null,
      "outputs": [
        {
          "output_type": "execute_result",
          "data": {
            "text/plain": [
              "<tf.Tensor: shape=(2, 2), dtype=int32, numpy=\n",
              "array([[100,  49],\n",
              "       [  9,  16]], dtype=int32)>"
            ]
          },
          "metadata": {
            "tags": []
          },
          "execution_count": 60
        }
      ]
    },
    {
      "cell_type": "code",
      "metadata": {
        "colab": {
          "base_uri": "https://localhost:8080/"
        },
        "id": "3SsHha9vHWfA",
        "outputId": "930a851a-7075-4215-82f9-3464c2ab1e08"
      },
      "source": [
        "# Matrix multiplication with Python operator \"@\"\n",
        "tensor @ tensor"
      ],
      "execution_count": null,
      "outputs": [
        {
          "output_type": "execute_result",
          "data": {
            "text/plain": [
              "<tf.Tensor: shape=(2, 2), dtype=int32, numpy=\n",
              "array([[121,  98],\n",
              "       [ 42,  37]], dtype=int32)>"
            ]
          },
          "metadata": {
            "tags": []
          },
          "execution_count": 61
        }
      ]
    },
    {
      "cell_type": "code",
      "metadata": {
        "colab": {
          "base_uri": "https://localhost:8080/"
        },
        "id": "j5Bx_0aQH8qO",
        "outputId": "b942c2c2-952d-4f8c-8932-8cdf1812bd52"
      },
      "source": [
        "# Create a tensor (3,2) tensor\n",
        "X = tf.constant([[1,2],\n",
        "                 [3,4],\n",
        "                 [5,6]])\n",
        "# Create another (3,2) tensor\n",
        "Y = tf.constant([[7,8],\n",
        "                 [9,10],\n",
        "                 [11,12]])\n",
        "X, Y"
      ],
      "execution_count": null,
      "outputs": [
        {
          "output_type": "execute_result",
          "data": {
            "text/plain": [
              "(<tf.Tensor: shape=(3, 2), dtype=int32, numpy=\n",
              " array([[1, 2],\n",
              "        [3, 4],\n",
              "        [5, 6]], dtype=int32)>, <tf.Tensor: shape=(3, 2), dtype=int32, numpy=\n",
              " array([[ 7,  8],\n",
              "        [ 9, 10],\n",
              "        [11, 12]], dtype=int32)>)"
            ]
          },
          "metadata": {
            "tags": []
          },
          "execution_count": 62
        }
      ]
    },
    {
      "cell_type": "code",
      "metadata": {
        "colab": {
          "base_uri": "https://localhost:8080/",
          "height": 236
        },
        "id": "MDTBr1j8Irw9",
        "outputId": "0c252bbb-c244-46fa-d800-69461a031621"
      },
      "source": [
        "# Try to matrix multiply tensors of same shape\n",
        "X @ Y\n"
      ],
      "execution_count": null,
      "outputs": [
        {
          "output_type": "error",
          "ename": "InvalidArgumentError",
          "evalue": "ignored",
          "traceback": [
            "\u001b[0;31m---------------------------------------------------------------------------\u001b[0m",
            "\u001b[0;31mInvalidArgumentError\u001b[0m                      Traceback (most recent call last)",
            "\u001b[0;32m<ipython-input-64-b9d9e021c030>\u001b[0m in \u001b[0;36m<module>\u001b[0;34m()\u001b[0m\n\u001b[1;32m      1\u001b[0m \u001b[0;31m# Try to matrix multiply tensors of same shape\u001b[0m\u001b[0;34m\u001b[0m\u001b[0;34m\u001b[0m\u001b[0;34m\u001b[0m\u001b[0m\n\u001b[0;32m----> 2\u001b[0;31m \u001b[0mX\u001b[0m \u001b[0;34m@\u001b[0m \u001b[0mY\u001b[0m\u001b[0;34m\u001b[0m\u001b[0;34m\u001b[0m\u001b[0m\n\u001b[0m",
            "\u001b[0;32m/usr/local/lib/python3.7/dist-packages/tensorflow/python/ops/math_ops.py\u001b[0m in \u001b[0;36mbinary_op_wrapper\u001b[0;34m(x, y)\u001b[0m\n\u001b[1;32m   1162\u001b[0m     \u001b[0;32mwith\u001b[0m \u001b[0mops\u001b[0m\u001b[0;34m.\u001b[0m\u001b[0mname_scope\u001b[0m\u001b[0;34m(\u001b[0m\u001b[0;32mNone\u001b[0m\u001b[0;34m,\u001b[0m \u001b[0mop_name\u001b[0m\u001b[0;34m,\u001b[0m \u001b[0;34m[\u001b[0m\u001b[0mx\u001b[0m\u001b[0;34m,\u001b[0m \u001b[0my\u001b[0m\u001b[0;34m]\u001b[0m\u001b[0;34m)\u001b[0m \u001b[0;32mas\u001b[0m \u001b[0mname\u001b[0m\u001b[0;34m:\u001b[0m\u001b[0;34m\u001b[0m\u001b[0;34m\u001b[0m\u001b[0m\n\u001b[1;32m   1163\u001b[0m       \u001b[0;32mtry\u001b[0m\u001b[0;34m:\u001b[0m\u001b[0;34m\u001b[0m\u001b[0;34m\u001b[0m\u001b[0m\n\u001b[0;32m-> 1164\u001b[0;31m         \u001b[0;32mreturn\u001b[0m \u001b[0mfunc\u001b[0m\u001b[0;34m(\u001b[0m\u001b[0mx\u001b[0m\u001b[0;34m,\u001b[0m \u001b[0my\u001b[0m\u001b[0;34m,\u001b[0m \u001b[0mname\u001b[0m\u001b[0;34m=\u001b[0m\u001b[0mname\u001b[0m\u001b[0;34m)\u001b[0m\u001b[0;34m\u001b[0m\u001b[0;34m\u001b[0m\u001b[0m\n\u001b[0m\u001b[1;32m   1165\u001b[0m       \u001b[0;32mexcept\u001b[0m \u001b[0;34m(\u001b[0m\u001b[0mTypeError\u001b[0m\u001b[0;34m,\u001b[0m \u001b[0mValueError\u001b[0m\u001b[0;34m)\u001b[0m \u001b[0;32mas\u001b[0m \u001b[0me\u001b[0m\u001b[0;34m:\u001b[0m\u001b[0;34m\u001b[0m\u001b[0;34m\u001b[0m\u001b[0m\n\u001b[1;32m   1166\u001b[0m         \u001b[0;31m# Even if dispatching the op failed, the RHS may be a tensor aware\u001b[0m\u001b[0;34m\u001b[0m\u001b[0;34m\u001b[0m\u001b[0;34m\u001b[0m\u001b[0m\n",
            "\u001b[0;32m/usr/local/lib/python3.7/dist-packages/tensorflow/python/util/dispatch.py\u001b[0m in \u001b[0;36mwrapper\u001b[0;34m(*args, **kwargs)\u001b[0m\n\u001b[1;32m    199\u001b[0m     \u001b[0;34m\"\"\"Call target, and fall back on dispatchers if there is a TypeError.\"\"\"\u001b[0m\u001b[0;34m\u001b[0m\u001b[0;34m\u001b[0m\u001b[0m\n\u001b[1;32m    200\u001b[0m     \u001b[0;32mtry\u001b[0m\u001b[0;34m:\u001b[0m\u001b[0;34m\u001b[0m\u001b[0;34m\u001b[0m\u001b[0m\n\u001b[0;32m--> 201\u001b[0;31m       \u001b[0;32mreturn\u001b[0m \u001b[0mtarget\u001b[0m\u001b[0;34m(\u001b[0m\u001b[0;34m*\u001b[0m\u001b[0margs\u001b[0m\u001b[0;34m,\u001b[0m \u001b[0;34m**\u001b[0m\u001b[0mkwargs\u001b[0m\u001b[0;34m)\u001b[0m\u001b[0;34m\u001b[0m\u001b[0;34m\u001b[0m\u001b[0m\n\u001b[0m\u001b[1;32m    202\u001b[0m     \u001b[0;32mexcept\u001b[0m \u001b[0;34m(\u001b[0m\u001b[0mTypeError\u001b[0m\u001b[0;34m,\u001b[0m \u001b[0mValueError\u001b[0m\u001b[0;34m)\u001b[0m\u001b[0;34m:\u001b[0m\u001b[0;34m\u001b[0m\u001b[0;34m\u001b[0m\u001b[0m\n\u001b[1;32m    203\u001b[0m       \u001b[0;31m# Note: convert_to_eager_tensor currently raises a ValueError, not a\u001b[0m\u001b[0;34m\u001b[0m\u001b[0;34m\u001b[0m\u001b[0;34m\u001b[0m\u001b[0m\n",
            "\u001b[0;32m/usr/local/lib/python3.7/dist-packages/tensorflow/python/ops/math_ops.py\u001b[0m in \u001b[0;36mmatmul\u001b[0;34m(a, b, transpose_a, transpose_b, adjoint_a, adjoint_b, a_is_sparse, b_is_sparse, name)\u001b[0m\n\u001b[1;32m   3313\u001b[0m     \u001b[0;32melse\u001b[0m\u001b[0;34m:\u001b[0m\u001b[0;34m\u001b[0m\u001b[0;34m\u001b[0m\u001b[0m\n\u001b[1;32m   3314\u001b[0m       return gen_math_ops.mat_mul(\n\u001b[0;32m-> 3315\u001b[0;31m           a, b, transpose_a=transpose_a, transpose_b=transpose_b, name=name)\n\u001b[0m\u001b[1;32m   3316\u001b[0m \u001b[0;34m\u001b[0m\u001b[0m\n\u001b[1;32m   3317\u001b[0m \u001b[0;34m\u001b[0m\u001b[0m\n",
            "\u001b[0;32m/usr/local/lib/python3.7/dist-packages/tensorflow/python/ops/gen_math_ops.py\u001b[0m in \u001b[0;36mmat_mul\u001b[0;34m(a, b, transpose_a, transpose_b, name)\u001b[0m\n\u001b[1;32m   5530\u001b[0m       \u001b[0;32mreturn\u001b[0m \u001b[0m_result\u001b[0m\u001b[0;34m\u001b[0m\u001b[0;34m\u001b[0m\u001b[0m\n\u001b[1;32m   5531\u001b[0m     \u001b[0;32mexcept\u001b[0m \u001b[0m_core\u001b[0m\u001b[0;34m.\u001b[0m\u001b[0m_NotOkStatusException\u001b[0m \u001b[0;32mas\u001b[0m \u001b[0me\u001b[0m\u001b[0;34m:\u001b[0m\u001b[0;34m\u001b[0m\u001b[0;34m\u001b[0m\u001b[0m\n\u001b[0;32m-> 5532\u001b[0;31m       \u001b[0m_ops\u001b[0m\u001b[0;34m.\u001b[0m\u001b[0mraise_from_not_ok_status\u001b[0m\u001b[0;34m(\u001b[0m\u001b[0me\u001b[0m\u001b[0;34m,\u001b[0m \u001b[0mname\u001b[0m\u001b[0;34m)\u001b[0m\u001b[0;34m\u001b[0m\u001b[0;34m\u001b[0m\u001b[0m\n\u001b[0m\u001b[1;32m   5533\u001b[0m     \u001b[0;32mexcept\u001b[0m \u001b[0m_core\u001b[0m\u001b[0;34m.\u001b[0m\u001b[0m_FallbackException\u001b[0m\u001b[0;34m:\u001b[0m\u001b[0;34m\u001b[0m\u001b[0;34m\u001b[0m\u001b[0m\n\u001b[1;32m   5534\u001b[0m       \u001b[0;32mpass\u001b[0m\u001b[0;34m\u001b[0m\u001b[0;34m\u001b[0m\u001b[0m\n",
            "\u001b[0;32m/usr/local/lib/python3.7/dist-packages/tensorflow/python/framework/ops.py\u001b[0m in \u001b[0;36mraise_from_not_ok_status\u001b[0;34m(e, name)\u001b[0m\n\u001b[1;32m   6860\u001b[0m   \u001b[0mmessage\u001b[0m \u001b[0;34m=\u001b[0m \u001b[0me\u001b[0m\u001b[0;34m.\u001b[0m\u001b[0mmessage\u001b[0m \u001b[0;34m+\u001b[0m \u001b[0;34m(\u001b[0m\u001b[0;34m\" name: \"\u001b[0m \u001b[0;34m+\u001b[0m \u001b[0mname\u001b[0m \u001b[0;32mif\u001b[0m \u001b[0mname\u001b[0m \u001b[0;32mis\u001b[0m \u001b[0;32mnot\u001b[0m \u001b[0;32mNone\u001b[0m \u001b[0;32melse\u001b[0m \u001b[0;34m\"\"\u001b[0m\u001b[0;34m)\u001b[0m\u001b[0;34m\u001b[0m\u001b[0;34m\u001b[0m\u001b[0m\n\u001b[1;32m   6861\u001b[0m   \u001b[0;31m# pylint: disable=protected-access\u001b[0m\u001b[0;34m\u001b[0m\u001b[0;34m\u001b[0m\u001b[0;34m\u001b[0m\u001b[0m\n\u001b[0;32m-> 6862\u001b[0;31m   \u001b[0msix\u001b[0m\u001b[0;34m.\u001b[0m\u001b[0mraise_from\u001b[0m\u001b[0;34m(\u001b[0m\u001b[0mcore\u001b[0m\u001b[0;34m.\u001b[0m\u001b[0m_status_to_exception\u001b[0m\u001b[0;34m(\u001b[0m\u001b[0me\u001b[0m\u001b[0;34m.\u001b[0m\u001b[0mcode\u001b[0m\u001b[0;34m,\u001b[0m \u001b[0mmessage\u001b[0m\u001b[0;34m)\u001b[0m\u001b[0;34m,\u001b[0m \u001b[0;32mNone\u001b[0m\u001b[0;34m)\u001b[0m\u001b[0;34m\u001b[0m\u001b[0;34m\u001b[0m\u001b[0m\n\u001b[0m\u001b[1;32m   6863\u001b[0m   \u001b[0;31m# pylint: enable=protected-access\u001b[0m\u001b[0;34m\u001b[0m\u001b[0;34m\u001b[0m\u001b[0;34m\u001b[0m\u001b[0m\n\u001b[1;32m   6864\u001b[0m \u001b[0;34m\u001b[0m\u001b[0m\n",
            "\u001b[0;32m/usr/local/lib/python3.7/dist-packages/six.py\u001b[0m in \u001b[0;36mraise_from\u001b[0;34m(value, from_value)\u001b[0m\n",
            "\u001b[0;31mInvalidArgumentError\u001b[0m: Matrix size-incompatible: In[0]: [3,2], In[1]: [3,2] [Op:MatMul]"
          ]
        }
      ]
    },
    {
      "cell_type": "markdown",
      "metadata": {
        "id": "fNI7Rb9xRVlG"
      },
      "source": [
        "# **23 - Matrix multiplication with tensors PART II**"
      ]
    },
    {
      "cell_type": "code",
      "metadata": {
        "colab": {
          "base_uri": "https://localhost:8080/"
        },
        "id": "_pwpzsnpjKES",
        "outputId": "c0283c8b-a96a-4461-b902-1178473ec0ed"
      },
      "source": [
        "Y"
      ],
      "execution_count": null,
      "outputs": [
        {
          "output_type": "execute_result",
          "data": {
            "text/plain": [
              "<tf.Tensor: shape=(3, 2), dtype=int32, numpy=\n",
              "array([[ 7,  8],\n",
              "       [ 9, 10],\n",
              "       [11, 12]], dtype=int32)>"
            ]
          },
          "metadata": {
            "tags": []
          },
          "execution_count": 65
        }
      ]
    },
    {
      "cell_type": "code",
      "metadata": {
        "id": "aYlAnFsPI7Tu",
        "colab": {
          "base_uri": "https://localhost:8080/"
        },
        "outputId": "8743d5ab-865e-4951-a073-2380e910dacd"
      },
      "source": [
        "# Let's change the shape of Y\n",
        "tf.reshape(Y, shape=(2,3))"
      ],
      "execution_count": null,
      "outputs": [
        {
          "output_type": "execute_result",
          "data": {
            "text/plain": [
              "<tf.Tensor: shape=(2, 3), dtype=int32, numpy=\n",
              "array([[ 7,  8,  9],\n",
              "       [10, 11, 12]], dtype=int32)>"
            ]
          },
          "metadata": {
            "tags": []
          },
          "execution_count": 66
        }
      ]
    },
    {
      "cell_type": "code",
      "metadata": {
        "colab": {
          "base_uri": "https://localhost:8080/"
        },
        "id": "CuzDIZSRjY3s",
        "outputId": "93de12df-f48e-4520-e973-03aff5eb65c6"
      },
      "source": [
        "X.shape, tf.reshape(Y, shape=(2,3)).shape"
      ],
      "execution_count": null,
      "outputs": [
        {
          "output_type": "execute_result",
          "data": {
            "text/plain": [
              "(TensorShape([3, 2]), TensorShape([2, 3]))"
            ]
          },
          "metadata": {
            "tags": []
          },
          "execution_count": 67
        }
      ]
    },
    {
      "cell_type": "code",
      "metadata": {
        "colab": {
          "base_uri": "https://localhost:8080/"
        },
        "id": "fbaJ6okFjFOG",
        "outputId": "afa7993f-c463-413d-b02a-06b27d99a50b"
      },
      "source": [
        "# Try to matrix multiply X by reshaped Y\n",
        "X @ tf.reshape(Y,shape=(2,3))"
      ],
      "execution_count": null,
      "outputs": [
        {
          "output_type": "execute_result",
          "data": {
            "text/plain": [
              "<tf.Tensor: shape=(3, 3), dtype=int32, numpy=\n",
              "array([[ 27,  30,  33],\n",
              "       [ 61,  68,  75],\n",
              "       [ 95, 106, 117]], dtype=int32)>"
            ]
          },
          "metadata": {
            "tags": []
          },
          "execution_count": 68
        }
      ]
    },
    {
      "cell_type": "code",
      "metadata": {
        "colab": {
          "base_uri": "https://localhost:8080/"
        },
        "id": "0rME8upTkYBK",
        "outputId": "0f5547d4-5ed9-4a75-f198-e1b7eca88bbb"
      },
      "source": [
        "tf.matmul(X, tf.reshape(Y,shape=(2,3)))"
      ],
      "execution_count": null,
      "outputs": [
        {
          "output_type": "execute_result",
          "data": {
            "text/plain": [
              "<tf.Tensor: shape=(3, 3), dtype=int32, numpy=\n",
              "array([[ 27,  30,  33],\n",
              "       [ 61,  68,  75],\n",
              "       [ 95, 106, 117]], dtype=int32)>"
            ]
          },
          "metadata": {
            "tags": []
          },
          "execution_count": 69
        }
      ]
    },
    {
      "cell_type": "code",
      "metadata": {
        "colab": {
          "base_uri": "https://localhost:8080/"
        },
        "id": "5MvBzo0tlIKq",
        "outputId": "040476bf-9fd1-4111-e0d4-dcb8d7b32bfd"
      },
      "source": [
        "# Let's change only X shape\n",
        "tf.reshape(X, shape=(2,3)).shape , Y.shape"
      ],
      "execution_count": null,
      "outputs": [
        {
          "output_type": "execute_result",
          "data": {
            "text/plain": [
              "(TensorShape([2, 3]), TensorShape([3, 2]))"
            ]
          },
          "metadata": {
            "tags": []
          },
          "execution_count": 70
        }
      ]
    },
    {
      "cell_type": "code",
      "metadata": {
        "colab": {
          "base_uri": "https://localhost:8080/"
        },
        "id": "KTuiEbhmkk7-",
        "outputId": "7d86b4e7-dfd8-42c3-bc2c-54508845c7f3"
      },
      "source": [
        "\n",
        "tf.matmul(tf.reshape(X,shape=(2,3)), Y)"
      ],
      "execution_count": null,
      "outputs": [
        {
          "output_type": "execute_result",
          "data": {
            "text/plain": [
              "<tf.Tensor: shape=(2, 2), dtype=int32, numpy=\n",
              "array([[ 58,  64],\n",
              "       [139, 154]], dtype=int32)>"
            ]
          },
          "metadata": {
            "tags": []
          },
          "execution_count": 71
        }
      ]
    },
    {
      "cell_type": "code",
      "metadata": {
        "colab": {
          "base_uri": "https://localhost:8080/"
        },
        "id": "8lvNc70Wk5Ob",
        "outputId": "e81555e3-9d58-4e54-fece-2fe8bf058fc9"
      },
      "source": [
        "# Can do the same with transpose\n",
        "X , tf.transpose(X), tf.reshape(X, shape=(2,3))"
      ],
      "execution_count": null,
      "outputs": [
        {
          "output_type": "execute_result",
          "data": {
            "text/plain": [
              "(<tf.Tensor: shape=(3, 2), dtype=int32, numpy=\n",
              " array([[1, 2],\n",
              "        [3, 4],\n",
              "        [5, 6]], dtype=int32)>, <tf.Tensor: shape=(2, 3), dtype=int32, numpy=\n",
              " array([[1, 3, 5],\n",
              "        [2, 4, 6]], dtype=int32)>, <tf.Tensor: shape=(2, 3), dtype=int32, numpy=\n",
              " array([[1, 2, 3],\n",
              "        [4, 5, 6]], dtype=int32)>)"
            ]
          },
          "metadata": {
            "tags": []
          },
          "execution_count": 72
        }
      ]
    },
    {
      "cell_type": "code",
      "metadata": {
        "colab": {
          "base_uri": "https://localhost:8080/"
        },
        "id": "VuAxf5a-m4_r",
        "outputId": "09a218ee-cba9-425b-a660-357df633dfd5"
      },
      "source": [
        "# BU KISMI KENDIM EKLEDIM TRANSPOSE KISMINI BIRAZ DAHA KAVRAMAK ICIN\n",
        "Z = tf.constant([[[ 1,  2,  3],\n",
        "                  [ 4,  5,  6]],\n",
        "                 [[ 7,  8,  9],\n",
        "                  [10, 11, 12]]])\n",
        "Z , tf.transpose(Z) \n"
      ],
      "execution_count": null,
      "outputs": [
        {
          "output_type": "execute_result",
          "data": {
            "text/plain": [
              "(<tf.Tensor: shape=(2, 2, 3), dtype=int32, numpy=\n",
              " array([[[ 1,  2,  3],\n",
              "         [ 4,  5,  6]],\n",
              " \n",
              "        [[ 7,  8,  9],\n",
              "         [10, 11, 12]]], dtype=int32)>,\n",
              " <tf.Tensor: shape=(3, 2, 2), dtype=int32, numpy=\n",
              " array([[[ 1,  7],\n",
              "         [ 4, 10]],\n",
              " \n",
              "        [[ 2,  8],\n",
              "         [ 5, 11]],\n",
              " \n",
              "        [[ 3,  9],\n",
              "         [ 6, 12]]], dtype=int32)>)"
            ]
          },
          "metadata": {
            "tags": []
          },
          "execution_count": 73
        }
      ]
    },
    {
      "cell_type": "code",
      "metadata": {
        "colab": {
          "base_uri": "https://localhost:8080/"
        },
        "id": "PVOp1jUdoLsE",
        "outputId": "757f357e-5380-4a1f-e8f5-d3b760fd0574"
      },
      "source": [
        "# Try matrix multiplication with transpose rather than reshape\n",
        "tf.matmul(tf.transpose(X),Y)"
      ],
      "execution_count": null,
      "outputs": [
        {
          "output_type": "execute_result",
          "data": {
            "text/plain": [
              "<tf.Tensor: shape=(2, 2), dtype=int32, numpy=\n",
              "array([[ 89,  98],\n",
              "       [116, 128]], dtype=int32)>"
            ]
          },
          "metadata": {
            "tags": []
          },
          "execution_count": 74
        }
      ]
    },
    {
      "cell_type": "markdown",
      "metadata": {
        "id": "ftlGufj_qIE0"
      },
      "source": [
        "# **24 - Matrix Multiplication with tensors PART III**\n",
        "### The dot product\n",
        "\n",
        "Matrix multiplication is also referred to as the dot product.\n",
        "\n",
        "You can perform matrix multiplication using :\n",
        "* `tf.matmul()` \n",
        "* `tf.tensordot()`\n",
        "* `@`"
      ]
    },
    {
      "cell_type": "code",
      "metadata": {
        "colab": {
          "base_uri": "https://localhost:8080/"
        },
        "id": "e7FDz4tMxV7X",
        "outputId": "a14379c5-b434-4020-ad18-92d5dbe286d2"
      },
      "source": [
        "X , Y"
      ],
      "execution_count": null,
      "outputs": [
        {
          "output_type": "execute_result",
          "data": {
            "text/plain": [
              "(<tf.Tensor: shape=(3, 2), dtype=int32, numpy=\n",
              " array([[1, 2],\n",
              "        [3, 4],\n",
              "        [5, 6]], dtype=int32)>, <tf.Tensor: shape=(3, 2), dtype=int32, numpy=\n",
              " array([[ 7,  8],\n",
              "        [ 9, 10],\n",
              "        [11, 12]], dtype=int32)>)"
            ]
          },
          "metadata": {
            "tags": []
          },
          "execution_count": 75
        }
      ]
    },
    {
      "cell_type": "code",
      "metadata": {
        "colab": {
          "base_uri": "https://localhost:8080/"
        },
        "id": "sVQq5wW_o5Zq",
        "outputId": "6e2fdc56-f786-4474-f5dd-bf6860b68548"
      },
      "source": [
        "# Perform the dot product on X and Y (requires X or Y to be transposed)\n",
        "tf.tensordot(tf.transpose(X), Y, axes=1)"
      ],
      "execution_count": null,
      "outputs": [
        {
          "output_type": "execute_result",
          "data": {
            "text/plain": [
              "<tf.Tensor: shape=(2, 2), dtype=int32, numpy=\n",
              "array([[ 89,  98],\n",
              "       [116, 128]], dtype=int32)>"
            ]
          },
          "metadata": {
            "tags": []
          },
          "execution_count": 76
        }
      ]
    },
    {
      "cell_type": "code",
      "metadata": {
        "colab": {
          "base_uri": "https://localhost:8080/"
        },
        "id": "sd-9mlW7xt3-",
        "outputId": "4261b7a5-2d78-48bd-b286-6d266dc614d5"
      },
      "source": [
        "# Perform matrix multiplication between X and Y (transposed)\n",
        "tf.matmul(X, tf.transpose(Y))"
      ],
      "execution_count": null,
      "outputs": [
        {
          "output_type": "execute_result",
          "data": {
            "text/plain": [
              "<tf.Tensor: shape=(3, 3), dtype=int32, numpy=\n",
              "array([[ 23,  29,  35],\n",
              "       [ 53,  67,  81],\n",
              "       [ 83, 105, 127]], dtype=int32)>"
            ]
          },
          "metadata": {
            "tags": []
          },
          "execution_count": 77
        }
      ]
    },
    {
      "cell_type": "code",
      "metadata": {
        "colab": {
          "base_uri": "https://localhost:8080/"
        },
        "id": "-tzp7HB9yAMK",
        "outputId": "a93caae6-83ef-4016-af76-a58d6b67050c"
      },
      "source": [
        "# Perform matrix multiplication between X and Y (reshaped)\n",
        "tf.matmul(X, tf.reshape(Y, shape=(2,3)))"
      ],
      "execution_count": null,
      "outputs": [
        {
          "output_type": "execute_result",
          "data": {
            "text/plain": [
              "<tf.Tensor: shape=(3, 3), dtype=int32, numpy=\n",
              "array([[ 27,  30,  33],\n",
              "       [ 61,  68,  75],\n",
              "       [ 95, 106, 117]], dtype=int32)>"
            ]
          },
          "metadata": {
            "tags": []
          },
          "execution_count": 78
        }
      ]
    },
    {
      "cell_type": "code",
      "metadata": {
        "colab": {
          "base_uri": "https://localhost:8080/"
        },
        "id": "pt53t61NyGl_",
        "outputId": "5e9c06de-501e-4086-8661-cda82ea46d0a"
      },
      "source": [
        "# Check the values of Y, reshaped Y and transposed Y\n",
        "print(\"Normal Y:\")\n",
        "print(Y, \"\\n\") # \"\\n\" is for newline\n",
        "\n",
        "print(\"Y reshaped to (2,3):\")\n",
        "print(tf.reshape(Y,shape=(2,3)), \"\\n\")\n",
        "\n",
        "print(\"Y transposed:\")\n",
        "print(tf.transpose(Y))"
      ],
      "execution_count": null,
      "outputs": [
        {
          "output_type": "stream",
          "text": [
            "Normal Y:\n",
            "tf.Tensor(\n",
            "[[ 7  8]\n",
            " [ 9 10]\n",
            " [11 12]], shape=(3, 2), dtype=int32) \n",
            "\n",
            "Y reshaped to (2,3):\n",
            "tf.Tensor(\n",
            "[[ 7  8  9]\n",
            " [10 11 12]], shape=(2, 3), dtype=int32) \n",
            "\n",
            "Y transposed:\n",
            "tf.Tensor(\n",
            "[[ 7  9 11]\n",
            " [ 8 10 12]], shape=(2, 3), dtype=int32)\n"
          ],
          "name": "stdout"
        }
      ]
    },
    {
      "cell_type": "markdown",
      "metadata": {
        "id": "G5fkC1i_z6Cc"
      },
      "source": [
        "### Generally, when performing matrix multiplication on two tensors and one of the axes doesn't line up, you will transpose (rather than reshape) one of the tensors to get satisify the matrix multiplication rules."
      ]
    },
    {
      "cell_type": "markdown",
      "metadata": {
        "id": "8Z52zldA2wnO"
      },
      "source": [
        "# **25 - Changing the datatype of tensors**"
      ]
    },
    {
      "cell_type": "code",
      "metadata": {
        "colab": {
          "base_uri": "https://localhost:8080/"
        },
        "id": "6BUpubELzD6-",
        "outputId": "45d96e27-9f05-44e2-b968-c0082780fa02"
      },
      "source": [
        "# Create a new tensor with default datatype (float32)\n",
        "B = tf.constant([1.7, 7.4])\n",
        "B, B.dtype"
      ],
      "execution_count": null,
      "outputs": [
        {
          "output_type": "execute_result",
          "data": {
            "text/plain": [
              "(<tf.Tensor: shape=(2,), dtype=float32, numpy=array([1.7, 7.4], dtype=float32)>,\n",
              " tf.float32)"
            ]
          },
          "metadata": {
            "tags": []
          },
          "execution_count": 80
        }
      ]
    },
    {
      "cell_type": "code",
      "metadata": {
        "colab": {
          "base_uri": "https://localhost:8080/"
        },
        "id": "FjnYA8Wj4MuA",
        "outputId": "25479320-5381-4c27-fbcc-2dec1c0dd27b"
      },
      "source": [
        "C = tf.constant([7,10])\n",
        "C.dtype"
      ],
      "execution_count": null,
      "outputs": [
        {
          "output_type": "execute_result",
          "data": {
            "text/plain": [
              "tf.int32"
            ]
          },
          "metadata": {
            "tags": []
          },
          "execution_count": 81
        }
      ]
    },
    {
      "cell_type": "code",
      "metadata": {
        "colab": {
          "base_uri": "https://localhost:8080/"
        },
        "id": "Ee6f6Ls14XBR",
        "outputId": "687c53d7-a2de-4b8b-a23d-aed03106e589"
      },
      "source": [
        "# Change from float32 to float16 (reduced precision)\n",
        "D = tf.cast(B, dtype=tf.float16)\n",
        "D, D.dtype"
      ],
      "execution_count": null,
      "outputs": [
        {
          "output_type": "execute_result",
          "data": {
            "text/plain": [
              "(<tf.Tensor: shape=(2,), dtype=float16, numpy=array([1.7, 7.4], dtype=float16)>,\n",
              " tf.float16)"
            ]
          },
          "metadata": {
            "tags": []
          },
          "execution_count": 82
        }
      ]
    },
    {
      "cell_type": "code",
      "metadata": {
        "colab": {
          "base_uri": "https://localhost:8080/"
        },
        "id": "Flkj89KV5ji6",
        "outputId": "83fdbf87-f2cd-4f3b-90dd-3d76cc078164"
      },
      "source": [
        "# Change from int32 to float 32\n",
        "E = tf.cast(C, dtype=tf.float32)\n",
        "E"
      ],
      "execution_count": null,
      "outputs": [
        {
          "output_type": "execute_result",
          "data": {
            "text/plain": [
              "<tf.Tensor: shape=(2,), dtype=float32, numpy=array([ 7., 10.], dtype=float32)>"
            ]
          },
          "metadata": {
            "tags": []
          },
          "execution_count": 83
        }
      ]
    },
    {
      "cell_type": "markdown",
      "metadata": {
        "id": "ie40EGND6aQU"
      },
      "source": [
        "# **26 - Tensor aggregation (finding the min, max, mean & more)**\n",
        "\n",
        "### Aggregating tensors = cenodensing them from multiple values down to a smaller amount of values."
      ]
    },
    {
      "cell_type": "code",
      "metadata": {
        "colab": {
          "base_uri": "https://localhost:8080/"
        },
        "id": "4Z-_VaO-6Doc",
        "outputId": "83e629fa-b075-47d9-b0cc-37e6421c81db"
      },
      "source": [
        "# Get the absolute values\n",
        "A = tf.constant([-7,-10])\n",
        "A"
      ],
      "execution_count": null,
      "outputs": [
        {
          "output_type": "execute_result",
          "data": {
            "text/plain": [
              "<tf.Tensor: shape=(2,), dtype=int32, numpy=array([ -7, -10], dtype=int32)>"
            ]
          },
          "metadata": {
            "tags": []
          },
          "execution_count": 84
        }
      ]
    },
    {
      "cell_type": "code",
      "metadata": {
        "colab": {
          "base_uri": "https://localhost:8080/"
        },
        "id": "FlKEXo4U8LUU",
        "outputId": "94f3c85a-6fd6-4e94-a35f-ae40ac65ed23"
      },
      "source": [
        "# Get the absolute values\n",
        "tf.abs(A)"
      ],
      "execution_count": null,
      "outputs": [
        {
          "output_type": "execute_result",
          "data": {
            "text/plain": [
              "<tf.Tensor: shape=(2,), dtype=int32, numpy=array([ 7, 10], dtype=int32)>"
            ]
          },
          "metadata": {
            "tags": []
          },
          "execution_count": 85
        }
      ]
    },
    {
      "cell_type": "markdown",
      "metadata": {
        "id": "7NivwAn58x71"
      },
      "source": [
        "### Let's go through the following forms of aggregation:\n",
        "* Get the minimum\n",
        "* Get the maximum\n",
        "* Get the mean of a tensor\n",
        "* Get the sum of a tensor"
      ]
    },
    {
      "cell_type": "code",
      "metadata": {
        "colab": {
          "base_uri": "https://localhost:8080/"
        },
        "id": "2NndbBFm8iFF",
        "outputId": "6398cedf-f6dd-4b83-9a33-342e2dbfde97"
      },
      "source": [
        "# Create a random tensor with values between 0 and 100 of size 50\n",
        "E = tf.constant(np.random.randint(0, 100, size=50))\n",
        "E"
      ],
      "execution_count": null,
      "outputs": [
        {
          "output_type": "execute_result",
          "data": {
            "text/plain": [
              "<tf.Tensor: shape=(50,), dtype=int64, numpy=\n",
              "array([53,  0, 74, 91, 70, 41, 94, 87, 94, 90, 75, 40, 37, 50, 20, 29, 54,\n",
              "       24, 99, 79, 17, 44, 76, 72, 91, 81, 87, 90, 82, 33, 61, 72, 47, 44,\n",
              "       84, 58, 63, 60, 73, 86, 64, 17, 35, 73, 58, 80, 99, 10, 31, 75])>"
            ]
          },
          "metadata": {
            "tags": []
          },
          "execution_count": 86
        }
      ]
    },
    {
      "cell_type": "code",
      "metadata": {
        "colab": {
          "base_uri": "https://localhost:8080/"
        },
        "id": "vbic9A2g9sfz",
        "outputId": "b4731b2c-22a0-4c32-a397-80abc80c558a"
      },
      "source": [
        "tf.size(E), E.shape, E.ndim"
      ],
      "execution_count": null,
      "outputs": [
        {
          "output_type": "execute_result",
          "data": {
            "text/plain": [
              "(<tf.Tensor: shape=(), dtype=int32, numpy=50>, TensorShape([50]), 1)"
            ]
          },
          "metadata": {
            "tags": []
          },
          "execution_count": 87
        }
      ]
    },
    {
      "cell_type": "code",
      "metadata": {
        "colab": {
          "base_uri": "https://localhost:8080/"
        },
        "id": "61p7G1ly9xRK",
        "outputId": "042052de-c03c-4fac-f40c-6d03eebf9379"
      },
      "source": [
        "# Find the minimum\n",
        "tf.reduce_min(E)"
      ],
      "execution_count": null,
      "outputs": [
        {
          "output_type": "execute_result",
          "data": {
            "text/plain": [
              "<tf.Tensor: shape=(), dtype=int64, numpy=0>"
            ]
          },
          "metadata": {
            "tags": []
          },
          "execution_count": 88
        }
      ]
    },
    {
      "cell_type": "code",
      "metadata": {
        "colab": {
          "base_uri": "https://localhost:8080/"
        },
        "id": "yZI8PhD3-T8A",
        "outputId": "b0b6f575-9fb1-4a3f-fc6e-18d58a20201c"
      },
      "source": [
        "# Find the maximum\n",
        "tf.reduce_max(E)"
      ],
      "execution_count": null,
      "outputs": [
        {
          "output_type": "execute_result",
          "data": {
            "text/plain": [
              "<tf.Tensor: shape=(), dtype=int64, numpy=99>"
            ]
          },
          "metadata": {
            "tags": []
          },
          "execution_count": 89
        }
      ]
    },
    {
      "cell_type": "code",
      "metadata": {
        "colab": {
          "base_uri": "https://localhost:8080/"
        },
        "id": "cCYdYAtn-Xzk",
        "outputId": "c4357b73-33d5-48bc-d007-69014c92877d"
      },
      "source": [
        "# Find the mean\n",
        "tf.reduce_mean(E)"
      ],
      "execution_count": null,
      "outputs": [
        {
          "output_type": "execute_result",
          "data": {
            "text/plain": [
              "<tf.Tensor: shape=(), dtype=int64, numpy=61>"
            ]
          },
          "metadata": {
            "tags": []
          },
          "execution_count": 90
        }
      ]
    },
    {
      "cell_type": "code",
      "metadata": {
        "colab": {
          "base_uri": "https://localhost:8080/"
        },
        "id": "XcSbrZ5U-e0E",
        "outputId": "154bed2a-6c4e-439c-89e6-1a857e7269cf"
      },
      "source": [
        "# Find the sum\n",
        "tf.reduce_sum(E)"
      ],
      "execution_count": null,
      "outputs": [
        {
          "output_type": "execute_result",
          "data": {
            "text/plain": [
              "<tf.Tensor: shape=(), dtype=int64, numpy=3064>"
            ]
          },
          "metadata": {
            "tags": []
          },
          "execution_count": 91
        }
      ]
    },
    {
      "cell_type": "markdown",
      "metadata": {
        "id": "STr5Od1uLMvV"
      },
      "source": [
        "# **27 - Tensor troubleshooting example (updating tensor datatypes)**"
      ]
    },
    {
      "cell_type": "code",
      "metadata": {
        "id": "DTdYxJYpNdC7",
        "colab": {
          "base_uri": "https://localhost:8080/",
          "height": 178
        },
        "outputId": "3e691ff3-b550-4554-9db8-bd2d461ce529"
      },
      "source": [
        "# Find the variance of our tensor\n",
        "tf.reduce_variance(E)   # WON'T WORK"
      ],
      "execution_count": null,
      "outputs": [
        {
          "output_type": "error",
          "ename": "AttributeError",
          "evalue": "ignored",
          "traceback": [
            "\u001b[0;31m---------------------------------------------------------------------------\u001b[0m",
            "\u001b[0;31mAttributeError\u001b[0m                            Traceback (most recent call last)",
            "\u001b[0;32m<ipython-input-109-fa05c19cab87>\u001b[0m in \u001b[0;36m<module>\u001b[0;34m()\u001b[0m\n\u001b[1;32m      1\u001b[0m \u001b[0;31m# Find the variance of our tensor\u001b[0m\u001b[0;34m\u001b[0m\u001b[0;34m\u001b[0m\u001b[0;34m\u001b[0m\u001b[0m\n\u001b[0;32m----> 2\u001b[0;31m \u001b[0mtf\u001b[0m\u001b[0;34m.\u001b[0m\u001b[0mreduce_variance\u001b[0m\u001b[0;34m(\u001b[0m\u001b[0mE\u001b[0m\u001b[0;34m)\u001b[0m   \u001b[0;31m# WON'T WORK\u001b[0m\u001b[0;34m\u001b[0m\u001b[0;34m\u001b[0m\u001b[0m\n\u001b[0m",
            "\u001b[0;31mAttributeError\u001b[0m: module 'tensorflow' has no attribute 'reduce_variance'"
          ]
        }
      ]
    },
    {
      "cell_type": "code",
      "metadata": {
        "colab": {
          "base_uri": "https://localhost:8080/"
        },
        "id": "guZ1gl88-iZA",
        "outputId": "2cba9e91-3dcb-4867-980c-c467833ca912"
      },
      "source": [
        "# To find the variance of our tensor, we need access to tensorflow_probability\n",
        "import tensorflow_probability as tfp\n",
        "tfp.stats.variance(E)"
      ],
      "execution_count": null,
      "outputs": [
        {
          "output_type": "execute_result",
          "data": {
            "text/plain": [
              "<tf.Tensor: shape=(), dtype=int64, numpy=661>"
            ]
          },
          "metadata": {
            "tags": []
          },
          "execution_count": 125
        }
      ]
    },
    {
      "cell_type": "code",
      "metadata": {
        "colab": {
          "base_uri": "https://localhost:8080/"
        },
        "id": "aP2oLcJRNZ3h",
        "outputId": "2b258d1b-6591-41a1-aa9a-8dd9e2bfc13b"
      },
      "source": [
        "# Find the standard deviation\n",
        "tf.math.reduce_std(tf.cast(E, dtype=tf.float32))"
      ],
      "execution_count": null,
      "outputs": [
        {
          "output_type": "execute_result",
          "data": {
            "text/plain": [
              "<tf.Tensor: shape=(), dtype=float32, numpy=25.713062>"
            ]
          },
          "metadata": {
            "tags": []
          },
          "execution_count": 126
        }
      ]
    },
    {
      "cell_type": "code",
      "metadata": {
        "colab": {
          "base_uri": "https://localhost:8080/"
        },
        "id": "5YYg--GfOFa8",
        "outputId": "e49e99da-3417-4b82-c6e1-f3df5876e94f"
      },
      "source": [
        "# Find the variance of our E tensor without probability\n",
        "tf.math.reduce_variance(tf.cast(E, dtype=tf.float32))"
      ],
      "execution_count": null,
      "outputs": [
        {
          "output_type": "execute_result",
          "data": {
            "text/plain": [
              "<tf.Tensor: shape=(), dtype=float32, numpy=661.16156>"
            ]
          },
          "metadata": {
            "tags": []
          },
          "execution_count": 127
        }
      ]
    },
    {
      "cell_type": "markdown",
      "metadata": {
        "id": "v5ECUpIQO_Iy"
      },
      "source": [
        "# **28 - Finding the positional minimum and maximum of a tensor (argmin and argmax)**"
      ]
    },
    {
      "cell_type": "code",
      "metadata": {
        "colab": {
          "base_uri": "https://localhost:8080/"
        },
        "id": "ecxL6f13O5i4",
        "outputId": "69305462-033c-4d8a-8f36-90eec4cd414e"
      },
      "source": [
        "# Create a new tensor for finding positional minimum and maximum\n",
        "tf.random.set_seed(42)\n",
        "F = tf.random.uniform(shape=[50])\n",
        "F"
      ],
      "execution_count": null,
      "outputs": [
        {
          "output_type": "execute_result",
          "data": {
            "text/plain": [
              "<tf.Tensor: shape=(50,), dtype=float32, numpy=\n",
              "array([0.6645621 , 0.44100678, 0.3528825 , 0.46448255, 0.03366041,\n",
              "       0.68467236, 0.74011743, 0.8724445 , 0.22632635, 0.22319686,\n",
              "       0.3103881 , 0.7223358 , 0.13318717, 0.5480639 , 0.5746088 ,\n",
              "       0.8996835 , 0.00946367, 0.5212307 , 0.6345445 , 0.1993283 ,\n",
              "       0.72942245, 0.54583454, 0.10756552, 0.6767061 , 0.6602763 ,\n",
              "       0.33695042, 0.60141766, 0.21062577, 0.8527372 , 0.44062173,\n",
              "       0.9485276 , 0.23752594, 0.81179297, 0.5263394 , 0.494308  ,\n",
              "       0.21612847, 0.8457197 , 0.8718841 , 0.3083862 , 0.6868038 ,\n",
              "       0.23764038, 0.7817228 , 0.9671384 , 0.06870162, 0.79873943,\n",
              "       0.66028714, 0.5871513 , 0.16461694, 0.7381023 , 0.32054043],\n",
              "      dtype=float32)>"
            ]
          },
          "metadata": {
            "tags": []
          },
          "execution_count": 128
        }
      ]
    },
    {
      "cell_type": "code",
      "metadata": {
        "colab": {
          "base_uri": "https://localhost:8080/"
        },
        "id": "ubYCkYnTP-Gw",
        "outputId": "e996b66c-55f1-4196-b3dc-a2fe89a3079d"
      },
      "source": [
        "# Find the positional maximum\n",
        "tf.argmax(F)"
      ],
      "execution_count": null,
      "outputs": [
        {
          "output_type": "execute_result",
          "data": {
            "text/plain": [
              "<tf.Tensor: shape=(), dtype=int64, numpy=42>"
            ]
          },
          "metadata": {
            "tags": []
          },
          "execution_count": 129
        }
      ]
    },
    {
      "cell_type": "code",
      "metadata": {
        "colab": {
          "base_uri": "https://localhost:8080/"
        },
        "id": "a4aqgqGzRO3F",
        "outputId": "59ae5e7c-d0f8-4c4b-a61c-e5aaea3ab3ac"
      },
      "source": [
        "# Index on our largest value position\n",
        "F[tf.argmax(F)]"
      ],
      "execution_count": null,
      "outputs": [
        {
          "output_type": "execute_result",
          "data": {
            "text/plain": [
              "<tf.Tensor: shape=(), dtype=float32, numpy=0.9671384>"
            ]
          },
          "metadata": {
            "tags": []
          },
          "execution_count": 130
        }
      ]
    },
    {
      "cell_type": "code",
      "metadata": {
        "colab": {
          "base_uri": "https://localhost:8080/"
        },
        "id": "4RB0iLKRRVty",
        "outputId": "544c7e9a-0b89-4da4-e53c-197f3ced8d86"
      },
      "source": [
        "# Find the max value of F\n",
        "tf.reduce_max(F)"
      ],
      "execution_count": null,
      "outputs": [
        {
          "output_type": "execute_result",
          "data": {
            "text/plain": [
              "<tf.Tensor: shape=(), dtype=float32, numpy=0.9671384>"
            ]
          },
          "metadata": {
            "tags": []
          },
          "execution_count": 131
        }
      ]
    },
    {
      "cell_type": "code",
      "metadata": {
        "colab": {
          "base_uri": "https://localhost:8080/"
        },
        "id": "0LQz_kXnRi_1",
        "outputId": "cd279b96-4a19-4033-e22f-d9abff941421"
      },
      "source": [
        "# Check for equality\n",
        "F[tf.argmax(F)] == tf.reduce_max(F) #numpy=True dedigi icin esit cikmis oldu"
      ],
      "execution_count": null,
      "outputs": [
        {
          "output_type": "execute_result",
          "data": {
            "text/plain": [
              "<tf.Tensor: shape=(), dtype=bool, numpy=True>"
            ]
          },
          "metadata": {
            "tags": []
          },
          "execution_count": 132
        }
      ]
    },
    {
      "cell_type": "code",
      "metadata": {
        "colab": {
          "base_uri": "https://localhost:8080/"
        },
        "id": "L9ThRTojRxMD",
        "outputId": "adde7609-0205-494a-806d-df3cd4b330f6"
      },
      "source": [
        "# Find the positional minimum\n",
        "tf.argmin(F)"
      ],
      "execution_count": null,
      "outputs": [
        {
          "output_type": "execute_result",
          "data": {
            "text/plain": [
              "<tf.Tensor: shape=(), dtype=int64, numpy=16>"
            ]
          },
          "metadata": {
            "tags": []
          },
          "execution_count": 133
        }
      ]
    },
    {
      "cell_type": "code",
      "metadata": {
        "colab": {
          "base_uri": "https://localhost:8080/"
        },
        "id": "HoiH6oEtS26A",
        "outputId": "68549fb5-8ffc-4c87-9170-1736c0efa93e"
      },
      "source": [
        "# Find the minimum using the positional minimum index\n",
        "F[tf.argmin(F)]"
      ],
      "execution_count": null,
      "outputs": [
        {
          "output_type": "execute_result",
          "data": {
            "text/plain": [
              "<tf.Tensor: shape=(), dtype=float32, numpy=0.009463668>"
            ]
          },
          "metadata": {
            "tags": []
          },
          "execution_count": 134
        }
      ]
    },
    {
      "cell_type": "markdown",
      "metadata": {
        "id": "avlRBH-BXsuU"
      },
      "source": [
        "# **29 - Squeezing a tensor (removing all 1-dimension axes)**"
      ]
    },
    {
      "cell_type": "code",
      "metadata": {
        "id": "RdFVYFPgTP-J",
        "colab": {
          "base_uri": "https://localhost:8080/"
        },
        "outputId": "2b0de224-3cb8-4bcf-8505-7657fc13341c"
      },
      "source": [
        "# Create a tensor to get started\n",
        "G = tf.constant(tf.random.uniform(shape=[50]), shape=(1,1,1,1,50))\n",
        "G"
      ],
      "execution_count": null,
      "outputs": [
        {
          "output_type": "execute_result",
          "data": {
            "text/plain": [
              "<tf.Tensor: shape=(1, 1, 1, 1, 50), dtype=float32, numpy=\n",
              "array([[[[[0.68789124, 0.48447883, 0.9309944 , 0.252187  , 0.73115396,\n",
              "           0.89256823, 0.94674826, 0.7493341 , 0.34925628, 0.54718256,\n",
              "           0.26160395, 0.69734323, 0.11962581, 0.53484344, 0.7148968 ,\n",
              "           0.87501776, 0.33967495, 0.17377627, 0.4418521 , 0.9008261 ,\n",
              "           0.13803864, 0.12217975, 0.5754491 , 0.9417181 , 0.9186585 ,\n",
              "           0.59708476, 0.6109482 , 0.82086265, 0.83269787, 0.8915849 ,\n",
              "           0.01377225, 0.49807465, 0.57503664, 0.6856195 , 0.75972784,\n",
              "           0.908944  , 0.40900218, 0.8765154 , 0.53890026, 0.42733097,\n",
              "           0.401173  , 0.66623247, 0.16348064, 0.18220246, 0.97040176,\n",
              "           0.06139731, 0.53034747, 0.9869994 , 0.4746945 , 0.8646754 ]]]]],\n",
              "      dtype=float32)>"
            ]
          },
          "metadata": {
            "tags": []
          },
          "execution_count": 135
        }
      ]
    },
    {
      "cell_type": "code",
      "metadata": {
        "colab": {
          "base_uri": "https://localhost:8080/"
        },
        "id": "aw006lfTYKIc",
        "outputId": "235eff4b-b926-4e6f-e58d-e0d9ac19aa4b"
      },
      "source": [
        "G.shape"
      ],
      "execution_count": null,
      "outputs": [
        {
          "output_type": "execute_result",
          "data": {
            "text/plain": [
              "TensorShape([1, 1, 1, 1, 50])"
            ]
          },
          "metadata": {
            "tags": []
          },
          "execution_count": 136
        }
      ]
    },
    {
      "cell_type": "code",
      "metadata": {
        "colab": {
          "base_uri": "https://localhost:8080/"
        },
        "id": "KTRw1T00Y81J",
        "outputId": "53ddd3da-14e1-4a95-969e-caced416b9ae"
      },
      "source": [
        "G_squeezed = tf.squeeze(G)\n",
        "G_squeezed, G_squeezed.shape"
      ],
      "execution_count": null,
      "outputs": [
        {
          "output_type": "execute_result",
          "data": {
            "text/plain": [
              "(<tf.Tensor: shape=(50,), dtype=float32, numpy=\n",
              " array([0.68789124, 0.48447883, 0.9309944 , 0.252187  , 0.73115396,\n",
              "        0.89256823, 0.94674826, 0.7493341 , 0.34925628, 0.54718256,\n",
              "        0.26160395, 0.69734323, 0.11962581, 0.53484344, 0.7148968 ,\n",
              "        0.87501776, 0.33967495, 0.17377627, 0.4418521 , 0.9008261 ,\n",
              "        0.13803864, 0.12217975, 0.5754491 , 0.9417181 , 0.9186585 ,\n",
              "        0.59708476, 0.6109482 , 0.82086265, 0.83269787, 0.8915849 ,\n",
              "        0.01377225, 0.49807465, 0.57503664, 0.6856195 , 0.75972784,\n",
              "        0.908944  , 0.40900218, 0.8765154 , 0.53890026, 0.42733097,\n",
              "        0.401173  , 0.66623247, 0.16348064, 0.18220246, 0.97040176,\n",
              "        0.06139731, 0.53034747, 0.9869994 , 0.4746945 , 0.8646754 ],\n",
              "       dtype=float32)>, TensorShape([50]))"
            ]
          },
          "metadata": {
            "tags": []
          },
          "execution_count": 137
        }
      ]
    },
    {
      "cell_type": "markdown",
      "metadata": {
        "id": "n4UKk5mdZvFe"
      },
      "source": [
        "# **30 - One-hot encoding tensors**"
      ]
    },
    {
      "cell_type": "code",
      "metadata": {
        "colab": {
          "base_uri": "https://localhost:8080/"
        },
        "id": "WimMeq7hZQBQ",
        "outputId": "54d3ffa8-e075-4a91-e452-cf0ff6f268cd"
      },
      "source": [
        "# Create a list of indices\n",
        "some_list = [0,1,2,3]   # could be red,green,blue,purple \n",
        "\n",
        "# One hot encode our list of indices\n",
        "tf.one_hot(some_list, depth=4)"
      ],
      "execution_count": null,
      "outputs": [
        {
          "output_type": "execute_result",
          "data": {
            "text/plain": [
              "<tf.Tensor: shape=(4, 4), dtype=float32, numpy=\n",
              "array([[1., 0., 0., 0.],\n",
              "       [0., 1., 0., 0.],\n",
              "       [0., 0., 1., 0.],\n",
              "       [0., 0., 0., 1.]], dtype=float32)>"
            ]
          },
          "metadata": {
            "tags": []
          },
          "execution_count": 138
        }
      ]
    },
    {
      "cell_type": "code",
      "metadata": {
        "colab": {
          "base_uri": "https://localhost:8080/"
        },
        "id": "yPXyFNNYbpdQ",
        "outputId": "516c41d7-ad65-4aa5-e400-184d5dd5c812"
      },
      "source": [
        "#Specify custom values for one hot encoding\n",
        "tf.one_hot(some_list, depth=4, on_value=\"buraya 1 geliyor\", off_value=\"Buraya 0 geliyor\")"
      ],
      "execution_count": null,
      "outputs": [
        {
          "output_type": "execute_result",
          "data": {
            "text/plain": [
              "<tf.Tensor: shape=(4, 4), dtype=string, numpy=\n",
              "array([[b'buraya 1 geliyor', b'Buraya 0 geliyor', b'Buraya 0 geliyor',\n",
              "        b'Buraya 0 geliyor'],\n",
              "       [b'Buraya 0 geliyor', b'buraya 1 geliyor', b'Buraya 0 geliyor',\n",
              "        b'Buraya 0 geliyor'],\n",
              "       [b'Buraya 0 geliyor', b'Buraya 0 geliyor', b'buraya 1 geliyor',\n",
              "        b'Buraya 0 geliyor'],\n",
              "       [b'Buraya 0 geliyor', b'Buraya 0 geliyor', b'Buraya 0 geliyor',\n",
              "        b'buraya 1 geliyor']], dtype=object)>"
            ]
          },
          "metadata": {
            "tags": []
          },
          "execution_count": 139
        }
      ]
    },
    {
      "cell_type": "markdown",
      "metadata": {
        "id": "1cdUwh-q5zaK"
      },
      "source": [
        "# **31 - Trying out more tensor math operations**\n",
        "\n",
        "## Squaring, log, square root"
      ]
    },
    {
      "cell_type": "code",
      "metadata": {
        "colab": {
          "base_uri": "https://localhost:8080/"
        },
        "id": "1RcZf4I157dE",
        "outputId": "be4a3cca-7571-44df-83cd-3958c628e27d"
      },
      "source": [
        "# Create a new tensor\n",
        "H = tf.range(1,10)\n",
        "H"
      ],
      "execution_count": null,
      "outputs": [
        {
          "output_type": "execute_result",
          "data": {
            "text/plain": [
              "<tf.Tensor: shape=(9,), dtype=int32, numpy=array([1, 2, 3, 4, 5, 6, 7, 8, 9], dtype=int32)>"
            ]
          },
          "metadata": {
            "tags": []
          },
          "execution_count": 140
        }
      ]
    },
    {
      "cell_type": "code",
      "metadata": {
        "colab": {
          "base_uri": "https://localhost:8080/"
        },
        "id": "GuVsswIc6Und",
        "outputId": "5515c666-dbe4-4d84-a3c2-914f2d4a8815"
      },
      "source": [
        "# Square it\n",
        "tf.square(H)"
      ],
      "execution_count": null,
      "outputs": [
        {
          "output_type": "execute_result",
          "data": {
            "text/plain": [
              "<tf.Tensor: shape=(9,), dtype=int32, numpy=array([ 1,  4,  9, 16, 25, 36, 49, 64, 81], dtype=int32)>"
            ]
          },
          "metadata": {
            "tags": []
          },
          "execution_count": 141
        }
      ]
    },
    {
      "cell_type": "code",
      "metadata": {
        "colab": {
          "base_uri": "https://localhost:8080/",
          "height": 270
        },
        "id": "AsAYzu9v6dlL",
        "outputId": "207f40e3-8d50-4d84-fe39-19f908bb90bf"
      },
      "source": [
        "# Square root\n",
        "tf.sqrt(H)"
      ],
      "execution_count": null,
      "outputs": [
        {
          "output_type": "error",
          "ename": "InvalidArgumentError",
          "evalue": "ignored",
          "traceback": [
            "\u001b[0;31m---------------------------------------------------------------------------\u001b[0m",
            "\u001b[0;31mInvalidArgumentError\u001b[0m                      Traceback (most recent call last)",
            "\u001b[0;32m<ipython-input-142-41f29f6eea45>\u001b[0m in \u001b[0;36m<module>\u001b[0;34m()\u001b[0m\n\u001b[1;32m      1\u001b[0m \u001b[0;31m# Square root\u001b[0m\u001b[0;34m\u001b[0m\u001b[0;34m\u001b[0m\u001b[0;34m\u001b[0m\u001b[0m\n\u001b[0;32m----> 2\u001b[0;31m \u001b[0mtf\u001b[0m\u001b[0;34m.\u001b[0m\u001b[0msqrt\u001b[0m\u001b[0;34m(\u001b[0m\u001b[0mH\u001b[0m\u001b[0;34m)\u001b[0m\u001b[0;34m\u001b[0m\u001b[0;34m\u001b[0m\u001b[0m\n\u001b[0m",
            "\u001b[0;32m/usr/local/lib/python3.7/dist-packages/tensorflow/python/util/dispatch.py\u001b[0m in \u001b[0;36mwrapper\u001b[0;34m(*args, **kwargs)\u001b[0m\n\u001b[1;32m    199\u001b[0m     \u001b[0;34m\"\"\"Call target, and fall back on dispatchers if there is a TypeError.\"\"\"\u001b[0m\u001b[0;34m\u001b[0m\u001b[0;34m\u001b[0m\u001b[0m\n\u001b[1;32m    200\u001b[0m     \u001b[0;32mtry\u001b[0m\u001b[0;34m:\u001b[0m\u001b[0;34m\u001b[0m\u001b[0;34m\u001b[0m\u001b[0m\n\u001b[0;32m--> 201\u001b[0;31m       \u001b[0;32mreturn\u001b[0m \u001b[0mtarget\u001b[0m\u001b[0;34m(\u001b[0m\u001b[0;34m*\u001b[0m\u001b[0margs\u001b[0m\u001b[0;34m,\u001b[0m \u001b[0;34m**\u001b[0m\u001b[0mkwargs\u001b[0m\u001b[0;34m)\u001b[0m\u001b[0;34m\u001b[0m\u001b[0;34m\u001b[0m\u001b[0m\n\u001b[0m\u001b[1;32m    202\u001b[0m     \u001b[0;32mexcept\u001b[0m \u001b[0;34m(\u001b[0m\u001b[0mTypeError\u001b[0m\u001b[0;34m,\u001b[0m \u001b[0mValueError\u001b[0m\u001b[0;34m)\u001b[0m\u001b[0;34m:\u001b[0m\u001b[0;34m\u001b[0m\u001b[0;34m\u001b[0m\u001b[0m\n\u001b[1;32m    203\u001b[0m       \u001b[0;31m# Note: convert_to_eager_tensor currently raises a ValueError, not a\u001b[0m\u001b[0;34m\u001b[0m\u001b[0;34m\u001b[0m\u001b[0;34m\u001b[0m\u001b[0m\n",
            "\u001b[0;32m/usr/local/lib/python3.7/dist-packages/tensorflow/python/ops/math_ops.py\u001b[0m in \u001b[0;36msqrt\u001b[0;34m(x, name)\u001b[0m\n\u001b[1;32m   4901\u001b[0m     \u001b[0mA\u001b[0m\u001b[0;31m \u001b[0m\u001b[0;31m`\u001b[0m\u001b[0mtf\u001b[0m\u001b[0;34m.\u001b[0m\u001b[0mTensor\u001b[0m\u001b[0;31m`\u001b[0m \u001b[0mof\u001b[0m \u001b[0msame\u001b[0m \u001b[0msize\u001b[0m\u001b[0;34m,\u001b[0m \u001b[0mtype\u001b[0m \u001b[0;32mand\u001b[0m \u001b[0msparsity\u001b[0m \u001b[0;32mas\u001b[0m\u001b[0;31m \u001b[0m\u001b[0;31m`\u001b[0m\u001b[0mx\u001b[0m\u001b[0;31m`\u001b[0m\u001b[0;34m.\u001b[0m\u001b[0;34m\u001b[0m\u001b[0;34m\u001b[0m\u001b[0m\n\u001b[1;32m   4902\u001b[0m   \"\"\"\n\u001b[0;32m-> 4903\u001b[0;31m   \u001b[0;32mreturn\u001b[0m \u001b[0mgen_math_ops\u001b[0m\u001b[0;34m.\u001b[0m\u001b[0msqrt\u001b[0m\u001b[0;34m(\u001b[0m\u001b[0mx\u001b[0m\u001b[0;34m,\u001b[0m \u001b[0mname\u001b[0m\u001b[0;34m)\u001b[0m\u001b[0;34m\u001b[0m\u001b[0;34m\u001b[0m\u001b[0m\n\u001b[0m\u001b[1;32m   4904\u001b[0m \u001b[0;34m\u001b[0m\u001b[0m\n\u001b[1;32m   4905\u001b[0m \u001b[0;34m\u001b[0m\u001b[0m\n",
            "\u001b[0;32m/usr/local/lib/python3.7/dist-packages/tensorflow/python/ops/gen_math_ops.py\u001b[0m in \u001b[0;36msqrt\u001b[0;34m(x, name)\u001b[0m\n\u001b[1;32m  10035\u001b[0m       \u001b[0;32mreturn\u001b[0m \u001b[0m_result\u001b[0m\u001b[0;34m\u001b[0m\u001b[0;34m\u001b[0m\u001b[0m\n\u001b[1;32m  10036\u001b[0m     \u001b[0;32mexcept\u001b[0m \u001b[0m_core\u001b[0m\u001b[0;34m.\u001b[0m\u001b[0m_NotOkStatusException\u001b[0m \u001b[0;32mas\u001b[0m \u001b[0me\u001b[0m\u001b[0;34m:\u001b[0m\u001b[0;34m\u001b[0m\u001b[0;34m\u001b[0m\u001b[0m\n\u001b[0;32m> 10037\u001b[0;31m       \u001b[0m_ops\u001b[0m\u001b[0;34m.\u001b[0m\u001b[0mraise_from_not_ok_status\u001b[0m\u001b[0;34m(\u001b[0m\u001b[0me\u001b[0m\u001b[0;34m,\u001b[0m \u001b[0mname\u001b[0m\u001b[0;34m)\u001b[0m\u001b[0;34m\u001b[0m\u001b[0;34m\u001b[0m\u001b[0m\n\u001b[0m\u001b[1;32m  10038\u001b[0m     \u001b[0;32mexcept\u001b[0m \u001b[0m_core\u001b[0m\u001b[0;34m.\u001b[0m\u001b[0m_FallbackException\u001b[0m\u001b[0;34m:\u001b[0m\u001b[0;34m\u001b[0m\u001b[0;34m\u001b[0m\u001b[0m\n\u001b[1;32m  10039\u001b[0m       \u001b[0;32mpass\u001b[0m\u001b[0;34m\u001b[0m\u001b[0;34m\u001b[0m\u001b[0m\n",
            "\u001b[0;32m/usr/local/lib/python3.7/dist-packages/tensorflow/python/framework/ops.py\u001b[0m in \u001b[0;36mraise_from_not_ok_status\u001b[0;34m(e, name)\u001b[0m\n\u001b[1;32m   6860\u001b[0m   \u001b[0mmessage\u001b[0m \u001b[0;34m=\u001b[0m \u001b[0me\u001b[0m\u001b[0;34m.\u001b[0m\u001b[0mmessage\u001b[0m \u001b[0;34m+\u001b[0m \u001b[0;34m(\u001b[0m\u001b[0;34m\" name: \"\u001b[0m \u001b[0;34m+\u001b[0m \u001b[0mname\u001b[0m \u001b[0;32mif\u001b[0m \u001b[0mname\u001b[0m \u001b[0;32mis\u001b[0m \u001b[0;32mnot\u001b[0m \u001b[0;32mNone\u001b[0m \u001b[0;32melse\u001b[0m \u001b[0;34m\"\"\u001b[0m\u001b[0;34m)\u001b[0m\u001b[0;34m\u001b[0m\u001b[0;34m\u001b[0m\u001b[0m\n\u001b[1;32m   6861\u001b[0m   \u001b[0;31m# pylint: disable=protected-access\u001b[0m\u001b[0;34m\u001b[0m\u001b[0;34m\u001b[0m\u001b[0;34m\u001b[0m\u001b[0m\n\u001b[0;32m-> 6862\u001b[0;31m   \u001b[0msix\u001b[0m\u001b[0;34m.\u001b[0m\u001b[0mraise_from\u001b[0m\u001b[0;34m(\u001b[0m\u001b[0mcore\u001b[0m\u001b[0;34m.\u001b[0m\u001b[0m_status_to_exception\u001b[0m\u001b[0;34m(\u001b[0m\u001b[0me\u001b[0m\u001b[0;34m.\u001b[0m\u001b[0mcode\u001b[0m\u001b[0;34m,\u001b[0m \u001b[0mmessage\u001b[0m\u001b[0;34m)\u001b[0m\u001b[0;34m,\u001b[0m \u001b[0;32mNone\u001b[0m\u001b[0;34m)\u001b[0m\u001b[0;34m\u001b[0m\u001b[0;34m\u001b[0m\u001b[0m\n\u001b[0m\u001b[1;32m   6863\u001b[0m   \u001b[0;31m# pylint: enable=protected-access\u001b[0m\u001b[0;34m\u001b[0m\u001b[0;34m\u001b[0m\u001b[0;34m\u001b[0m\u001b[0m\n\u001b[1;32m   6864\u001b[0m \u001b[0;34m\u001b[0m\u001b[0m\n",
            "\u001b[0;32m/usr/local/lib/python3.7/dist-packages/six.py\u001b[0m in \u001b[0;36mraise_from\u001b[0;34m(value, from_value)\u001b[0m\n",
            "\u001b[0;31mInvalidArgumentError\u001b[0m: Value for attr 'T' of int32 is not in the list of allowed values: bfloat16, half, float, double, complex64, complex128\n\t; NodeDef: {{node Sqrt}}; Op<name=Sqrt; signature=x:T -> y:T; attr=T:type,allowed=[DT_BFLOAT16, DT_HALF, DT_FLOAT, DT_DOUBLE, DT_COMPLEX64, DT_COMPLEX128]> [Op:Sqrt]"
          ]
        }
      ]
    },
    {
      "cell_type": "code",
      "metadata": {
        "colab": {
          "base_uri": "https://localhost:8080/"
        },
        "id": "O4aq2D9Y6nJU",
        "outputId": "793bd351-bf87-40df-cdd0-83b940d4f306"
      },
      "source": [
        "# InvalidArgumentError: Value for attr 'T' of int32 is not in the list of allowed values: bfloat16, half, float, double, complex64, complex128\n",
        "# Let's change int32 to float32\n",
        "tf.sqrt(tf.cast(H, dtype=tf.float32))"
      ],
      "execution_count": null,
      "outputs": [
        {
          "output_type": "execute_result",
          "data": {
            "text/plain": [
              "<tf.Tensor: shape=(9,), dtype=float32, numpy=\n",
              "array([0.99999994, 1.4142134 , 1.7320508 , 1.9999999 , 2.236068  ,\n",
              "       2.4494896 , 2.6457512 , 2.8284268 , 3.        ], dtype=float32)>"
            ]
          },
          "metadata": {
            "tags": []
          },
          "execution_count": 143
        }
      ]
    },
    {
      "cell_type": "code",
      "metadata": {
        "colab": {
          "base_uri": "https://localhost:8080/",
          "height": 270
        },
        "id": "QfnqsMsf7Bzm",
        "outputId": "4b9f9b7b-329d-47ab-80f0-18c7344a7f8b"
      },
      "source": [
        "# Find the log\n",
        "tf.math.log(H)"
      ],
      "execution_count": null,
      "outputs": [
        {
          "output_type": "error",
          "ename": "InvalidArgumentError",
          "evalue": "ignored",
          "traceback": [
            "\u001b[0;31m---------------------------------------------------------------------------\u001b[0m",
            "\u001b[0;31mInvalidArgumentError\u001b[0m                      Traceback (most recent call last)",
            "\u001b[0;32m<ipython-input-145-d7e970c5bd0b>\u001b[0m in \u001b[0;36m<module>\u001b[0;34m()\u001b[0m\n\u001b[1;32m      1\u001b[0m \u001b[0;31m# Find the log\u001b[0m\u001b[0;34m\u001b[0m\u001b[0;34m\u001b[0m\u001b[0;34m\u001b[0m\u001b[0m\n\u001b[0;32m----> 2\u001b[0;31m \u001b[0mtf\u001b[0m\u001b[0;34m.\u001b[0m\u001b[0mmath\u001b[0m\u001b[0;34m.\u001b[0m\u001b[0mlog\u001b[0m\u001b[0;34m(\u001b[0m\u001b[0mH\u001b[0m\u001b[0;34m)\u001b[0m\u001b[0;34m\u001b[0m\u001b[0;34m\u001b[0m\u001b[0m\n\u001b[0m",
            "\u001b[0;32m/usr/local/lib/python3.7/dist-packages/tensorflow/python/ops/gen_math_ops.py\u001b[0m in \u001b[0;36mlog\u001b[0;34m(x, name)\u001b[0m\n\u001b[1;32m   5157\u001b[0m       \u001b[0;32mreturn\u001b[0m \u001b[0m_result\u001b[0m\u001b[0;34m\u001b[0m\u001b[0;34m\u001b[0m\u001b[0m\n\u001b[1;32m   5158\u001b[0m     \u001b[0;32mexcept\u001b[0m \u001b[0m_core\u001b[0m\u001b[0;34m.\u001b[0m\u001b[0m_NotOkStatusException\u001b[0m \u001b[0;32mas\u001b[0m \u001b[0me\u001b[0m\u001b[0;34m:\u001b[0m\u001b[0;34m\u001b[0m\u001b[0;34m\u001b[0m\u001b[0m\n\u001b[0;32m-> 5159\u001b[0;31m       \u001b[0m_ops\u001b[0m\u001b[0;34m.\u001b[0m\u001b[0mraise_from_not_ok_status\u001b[0m\u001b[0;34m(\u001b[0m\u001b[0me\u001b[0m\u001b[0;34m,\u001b[0m \u001b[0mname\u001b[0m\u001b[0;34m)\u001b[0m\u001b[0;34m\u001b[0m\u001b[0;34m\u001b[0m\u001b[0m\n\u001b[0m\u001b[1;32m   5160\u001b[0m     \u001b[0;32mexcept\u001b[0m \u001b[0m_core\u001b[0m\u001b[0;34m.\u001b[0m\u001b[0m_FallbackException\u001b[0m\u001b[0;34m:\u001b[0m\u001b[0;34m\u001b[0m\u001b[0;34m\u001b[0m\u001b[0m\n\u001b[1;32m   5161\u001b[0m       \u001b[0;32mpass\u001b[0m\u001b[0;34m\u001b[0m\u001b[0;34m\u001b[0m\u001b[0m\n",
            "\u001b[0;32m/usr/local/lib/python3.7/dist-packages/tensorflow/python/framework/ops.py\u001b[0m in \u001b[0;36mraise_from_not_ok_status\u001b[0;34m(e, name)\u001b[0m\n\u001b[1;32m   6860\u001b[0m   \u001b[0mmessage\u001b[0m \u001b[0;34m=\u001b[0m \u001b[0me\u001b[0m\u001b[0;34m.\u001b[0m\u001b[0mmessage\u001b[0m \u001b[0;34m+\u001b[0m \u001b[0;34m(\u001b[0m\u001b[0;34m\" name: \"\u001b[0m \u001b[0;34m+\u001b[0m \u001b[0mname\u001b[0m \u001b[0;32mif\u001b[0m \u001b[0mname\u001b[0m \u001b[0;32mis\u001b[0m \u001b[0;32mnot\u001b[0m \u001b[0;32mNone\u001b[0m \u001b[0;32melse\u001b[0m \u001b[0;34m\"\"\u001b[0m\u001b[0;34m)\u001b[0m\u001b[0;34m\u001b[0m\u001b[0;34m\u001b[0m\u001b[0m\n\u001b[1;32m   6861\u001b[0m   \u001b[0;31m# pylint: disable=protected-access\u001b[0m\u001b[0;34m\u001b[0m\u001b[0;34m\u001b[0m\u001b[0;34m\u001b[0m\u001b[0m\n\u001b[0;32m-> 6862\u001b[0;31m   \u001b[0msix\u001b[0m\u001b[0;34m.\u001b[0m\u001b[0mraise_from\u001b[0m\u001b[0;34m(\u001b[0m\u001b[0mcore\u001b[0m\u001b[0;34m.\u001b[0m\u001b[0m_status_to_exception\u001b[0m\u001b[0;34m(\u001b[0m\u001b[0me\u001b[0m\u001b[0;34m.\u001b[0m\u001b[0mcode\u001b[0m\u001b[0;34m,\u001b[0m \u001b[0mmessage\u001b[0m\u001b[0;34m)\u001b[0m\u001b[0;34m,\u001b[0m \u001b[0;32mNone\u001b[0m\u001b[0;34m)\u001b[0m\u001b[0;34m\u001b[0m\u001b[0;34m\u001b[0m\u001b[0m\n\u001b[0m\u001b[1;32m   6863\u001b[0m   \u001b[0;31m# pylint: enable=protected-access\u001b[0m\u001b[0;34m\u001b[0m\u001b[0;34m\u001b[0m\u001b[0;34m\u001b[0m\u001b[0m\n\u001b[1;32m   6864\u001b[0m \u001b[0;34m\u001b[0m\u001b[0m\n",
            "\u001b[0;32m/usr/local/lib/python3.7/dist-packages/six.py\u001b[0m in \u001b[0;36mraise_from\u001b[0;34m(value, from_value)\u001b[0m\n",
            "\u001b[0;31mInvalidArgumentError\u001b[0m: Value for attr 'T' of int32 is not in the list of allowed values: bfloat16, half, float, double, complex64, complex128\n\t; NodeDef: {{node Log}}; Op<name=Log; signature=x:T -> y:T; attr=T:type,allowed=[DT_BFLOAT16, DT_HALF, DT_FLOAT, DT_DOUBLE, DT_COMPLEX64, DT_COMPLEX128]> [Op:Log]"
          ]
        }
      ]
    },
    {
      "cell_type": "code",
      "metadata": {
        "colab": {
          "base_uri": "https://localhost:8080/"
        },
        "id": "cCFJKSB-7Qjx",
        "outputId": "9e22ff7c-3b57-41d6-ff0f-2cc7e034e449"
      },
      "source": [
        "# Again, change int32 to float32\n",
        "tf.math.log(tf.cast(H,dtype=tf.float32))"
      ],
      "execution_count": null,
      "outputs": [
        {
          "output_type": "execute_result",
          "data": {
            "text/plain": [
              "<tf.Tensor: shape=(9,), dtype=float32, numpy=\n",
              "array([0.       , 0.6931472, 1.0986123, 1.3862944, 1.609438 , 1.7917595,\n",
              "       1.9459102, 2.0794415, 2.1972246], dtype=float32)>"
            ]
          },
          "metadata": {
            "tags": []
          },
          "execution_count": 146
        }
      ]
    },
    {
      "cell_type": "markdown",
      "metadata": {
        "id": "ZyNOxdbh7wri"
      },
      "source": [
        "# **32 - Exploring TensorFlow and NumPy's compatiblity**\n",
        "\n",
        "### Note: One of the main differences between a TensorFlow and a NumPy array is that a TensorFlow tensor can be run on a GPU or TPU (for faster numerical processing)."
      ]
    },
    {
      "cell_type": "code",
      "metadata": {
        "colab": {
          "base_uri": "https://localhost:8080/"
        },
        "id": "YSsaGTXI7kwd",
        "outputId": "121230d4-290c-430d-9198-b08f46da6813"
      },
      "source": [
        "# Create a tensor directly from a NumPy array\n",
        "J = tf.constant(np.array([3. , 7. ,10.]))\n",
        "J\n"
      ],
      "execution_count": null,
      "outputs": [
        {
          "output_type": "execute_result",
          "data": {
            "text/plain": [
              "<tf.Tensor: shape=(3,), dtype=float64, numpy=array([ 3.,  7., 10.])>"
            ]
          },
          "metadata": {
            "tags": []
          },
          "execution_count": 149
        }
      ]
    },
    {
      "cell_type": "code",
      "metadata": {
        "colab": {
          "base_uri": "https://localhost:8080/"
        },
        "id": "cgOr-HFm8nck",
        "outputId": "49f34ba7-1971-450b-e68a-09ee05496c12"
      },
      "source": [
        "# Convert our tensor back to a NumPy array\n",
        "np.array(J), type(np.array(J))"
      ],
      "execution_count": null,
      "outputs": [
        {
          "output_type": "execute_result",
          "data": {
            "text/plain": [
              "(array([ 3.,  7., 10.]), numpy.ndarray)"
            ]
          },
          "metadata": {
            "tags": []
          },
          "execution_count": 150
        }
      ]
    },
    {
      "cell_type": "code",
      "metadata": {
        "colab": {
          "base_uri": "https://localhost:8080/"
        },
        "id": "BoOQgeSd87TR",
        "outputId": "8260ea01-d9be-453e-c691-0887a0a4973e"
      },
      "source": [
        "# Convert tensor J to a NumPy array\n",
        "J.numpy(), type(J.numpy())"
      ],
      "execution_count": null,
      "outputs": [
        {
          "output_type": "execute_result",
          "data": {
            "text/plain": [
              "(array([ 3.,  7., 10.]), numpy.ndarray)"
            ]
          },
          "metadata": {
            "tags": []
          },
          "execution_count": 151
        }
      ]
    },
    {
      "cell_type": "code",
      "metadata": {
        "colab": {
          "base_uri": "https://localhost:8080/"
        },
        "id": "lzKo8gjB9U6y",
        "outputId": "c8e61839-daa5-419e-e726-0381a7e56451"
      },
      "source": [
        "# The default types of each are slightly different\n",
        "numpy_J = tf.constant(np.array([3.,7.,10.]))\n",
        "tensor_J = tf.constant([3.,7.,10.])\n",
        "# Check the datatypes of each\n",
        "numpy_J.dtype , tensor_J.dtype"
      ],
      "execution_count": null,
      "outputs": [
        {
          "output_type": "execute_result",
          "data": {
            "text/plain": [
              "(tf.float64, tf.float32)"
            ]
          },
          "metadata": {
            "tags": []
          },
          "execution_count": 152
        }
      ]
    },
    {
      "cell_type": "markdown",
      "metadata": {
        "id": "xY52rI-bOqjd"
      },
      "source": [
        "# **33 - Making sure our tensor operations run really fast on GPUs**\n",
        "## Finding access to GPUs"
      ]
    },
    {
      "cell_type": "code",
      "metadata": {
        "colab": {
          "base_uri": "https://localhost:8080/"
        },
        "id": "3cCQtBtAMYQO",
        "outputId": "e212c181-5673-4573-9c88-ae0e14b68088"
      },
      "source": [
        "import tensorflow as tf\n",
        "tf.config.list_physical_devices(\"GPU\")"
      ],
      "execution_count": null,
      "outputs": [
        {
          "output_type": "execute_result",
          "data": {
            "text/plain": [
              "[PhysicalDevice(name='/physical_device:GPU:0', device_type='GPU')]"
            ]
          },
          "metadata": {
            "tags": []
          },
          "execution_count": 3
        }
      ]
    },
    {
      "cell_type": "code",
      "metadata": {
        "colab": {
          "base_uri": "https://localhost:8080/"
        },
        "id": "DsrI_w6WP4_g",
        "outputId": "3e52c4f0-90bc-4543-fab7-2dad5e19bd2b"
      },
      "source": [
        "!nvidia-smi"
      ],
      "execution_count": null,
      "outputs": [
        {
          "output_type": "stream",
          "text": [
            "Mon May 24 21:23:28 2021       \n",
            "+-----------------------------------------------------------------------------+\n",
            "| NVIDIA-SMI 465.19.01    Driver Version: 460.32.03    CUDA Version: 11.2     |\n",
            "|-------------------------------+----------------------+----------------------+\n",
            "| GPU  Name        Persistence-M| Bus-Id        Disp.A | Volatile Uncorr. ECC |\n",
            "| Fan  Temp  Perf  Pwr:Usage/Cap|         Memory-Usage | GPU-Util  Compute M. |\n",
            "|                               |                      |               MIG M. |\n",
            "|===============================+======================+======================|\n",
            "|   0  Tesla T4            Off  | 00000000:00:04.0 Off |                    0 |\n",
            "| N/A   36C    P8     9W /  70W |      3MiB / 15109MiB |      0%      Default |\n",
            "|                               |                      |                  N/A |\n",
            "+-------------------------------+----------------------+----------------------+\n",
            "                                                                               \n",
            "+-----------------------------------------------------------------------------+\n",
            "| Processes:                                                                  |\n",
            "|  GPU   GI   CI        PID   Type   Process name                  GPU Memory |\n",
            "|        ID   ID                                                   Usage      |\n",
            "|=============================================================================|\n",
            "|  No running processes found                                                 |\n",
            "+-----------------------------------------------------------------------------+\n"
          ],
          "name": "stdout"
        }
      ]
    },
    {
      "cell_type": "markdown",
      "metadata": {
        "id": "fqUCxId0RA3M"
      },
      "source": [
        "**Note:** If you have access to a CUDA-enabled GPU (which we have), TensorFlow will automatically use it whenever possible."
      ]
    },
    {
      "cell_type": "code",
      "metadata": {
        "id": "lGF2jmw6QsIK"
      },
      "source": [
        ""
      ],
      "execution_count": null,
      "outputs": []
    }
  ]
}